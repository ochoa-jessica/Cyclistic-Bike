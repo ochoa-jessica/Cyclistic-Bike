{
 "cells": [
  {
   "cell_type": "markdown",
   "id": "a277ad6f",
   "metadata": {},
   "source": [
    "# CYCLISTIC BIKE SHARE CASE STUDY\n",
    "<i>How does a bike-share navigate speedy success?</i>"
   ]
  },
  {
   "cell_type": "code",
   "execution_count": 56,
   "id": "b44b10df",
   "metadata": {},
   "outputs": [
    {
     "data": {
      "image/png": "[encoded data removed]",
      "text/plain": [
       "<IPython.core.display.Image object>"
      ]
     },
     "execution_count": 56,
     "metadata": {},
     "output_type": "execute_result"
    }
   ],
   "source": [
    "from IPython.display import Image\n",
    "from IPython.core.display import HTML \n",
    "\n",
    "Image(\"Images/Logo.png\")"
   ]
  },
  {
   "cell_type": "markdown",
   "id": "8afc21e5",
   "metadata": {},
   "source": [
    "### ABOUT THE COMPANY\n",
    "<p>Founded in 2016, Cyclistic is a bike-share program that features more than 5,800 bicycles and 600 docking stations. In addition to offering traditional bikes, the company also has reclining bikes, hand tricycles, and cargo bikes included in its renting options. They can be unlocked from one station and returned to any other station in the system anytime.</p>\n",
    "\n",
    "<p>Cyclistic has flexible pricing plans: single-ride passes, full-day passes, and annual memberships. Customers who purchase single-ride or full-day passes are referred to as casual riders while customers who purchase annual memberships are known as members.</p>\n",
    "\n",
    "<p>The company's finance analysts have concluded that annual members are much more profitable than casual riders. Although the pricing flexibility helps the company attract more customers, Lily Moreno – Cyclistic's marketing director – believes that maximizing the number of annual members will be key to future growth. Instead of creating a marketing campaign that targets all-new customers, Moreno believes there is a very good chance to convert casual riders into members.</p>"
   ]
  },
  {
   "cell_type": "markdown",
   "id": "267d4a70",
   "metadata": {},
   "source": [
    "### BUSINESS TASK\n",
    "<p><li>Analyzing the company’s historical bike trip data to identify trends into how annual members and casual riders use Cyclistic bikes differently.</li></p>"
   ]
  },
  {
   "cell_type": "markdown",
   "id": "a1205b23",
   "metadata": {},
   "source": [
    "### STAKEHOLDERS\n",
    "<p><li><b>Lily Moreno</b> – Cyclistic’s marketing director.</li></p>\n",
    "\n",
    "<p><li><b>Cyclistic marketing analytics team</b> – A team of data analysts who are responsible for collecting, analyzing, and reporting data that helps guide the company’s marketing strategy.</li></p>\n",
    "\n",
    "<p><li><b>Cyclistic executive team</b> – Responsible for deciding whether to approve the recommended marketing program.</li></p>"
   ]
  },
  {
   "cell_type": "markdown",
   "id": "4f10f8ff",
   "metadata": {},
   "source": [
    "## 1. ASK\n",
    "<p><li>How do annual members and casual riders use Cyclistic bikes differently?</li></p>"
   ]
  },
  {
   "cell_type": "markdown",
   "id": "1473923f",
   "metadata": {},
   "source": [
    "## 2. PREPARE\n",
    "<p>The data used in this project has been made available by Motivate International Inc. under this <a href=\"https://ride.divvybikes.com/data-license-agreement\" title=”license”>license</a>.The datasets are named differently because Cyclistic is a fictional company. Divvy, the name you will see on the files, is a real bike-share system in Chicago with over 600 stations and 6,000+ bikes across the city. For this reason, the data is quite appropriate and will help us explore how different customer types are using Cyclistic's bikes.</p>\n",
    "\n",
    "<p>It is important to note, however, that data-privacy issues prohibit us to have access to the users' personal information, meaning we will not be able to connect pass purchases to credit card numbers in order to determine if casual riders live in the Cyclistic service area, or if they have purchased multiple single passes. You can check the datasets <a href=\"https://divvy-tripdata.s3.amazonaws.com/index.html\" title=”here”>here</a>.</p>\n",
    "\n",
    "<p>We will be working with 12 CSV files, comprehending the datasets between ‘202104-divvy-tripdata’ and ‘202203-divvy-tripdata’. This data corresponds to the period between April 2021 and Mar 2022. On those files, we will find the types of bikes available for rental, the date and time of each bike rental and its return to the station, the different station names, and more. Considering our data limitations, we will not be able to find out whether a casual rider spends more money per year than they would on an annual membership, their gender, age, or neighborhood - but we can still use this dataset to explore trends and learn how casual riders and members differ in their bike rental habits.</p>"
   ]
  },
  {
   "cell_type": "markdown",
   "id": "d03d1325",
   "metadata": {},
   "source": [
    "## 3. PROCESS\n",
    "<p>Load all the libraries and datasets. Then, going onwards will be performing data exploration by getting an overview of the datasets, checking the data types, and cleaning the data.</p>"
   ]
  },
  {
   "cell_type": "markdown",
   "id": "de1e3eae",
   "metadata": {},
   "source": [
    "### Loading Libraries"
   ]
  },
  {
   "cell_type": "code",
   "execution_count": 2,
   "id": "034f89db",
   "metadata": {},
   "outputs": [],
   "source": [
    "import pandas as pd\n",
    "\n",
    "import numpy as np\n",
    "\n",
    "import matplotlib.pyplot as plt\n",
    "\n",
    "from matplotlib.ticker import ScalarFormatter\n",
    "\n",
    "import datetime\n",
    "\n",
    "from pandas.api.types import CategoricalDtype\n",
    "\n",
    "import seaborn as sns"
   ]
  },
  {
   "cell_type": "markdown",
   "id": "c1b5e5e3",
   "metadata": {},
   "source": [
    "### Loading Datasets"
   ]
  },
  {
   "cell_type": "code",
   "execution_count": 3,
   "id": "f9b77bf8",
   "metadata": {},
   "outputs": [],
   "source": [
    "april_2021_tripdata = pd.read_csv(r'/Users/jessica/Desktop/Cyclistic-Bike/Data/202104-divvy-tripdata.csv')\n",
    "may_2021_tripdata = pd.read_csv(r'/Users/jessica/Desktop/Cyclistic-Bike/Data/202105-divvy-tripdata.csv')\n",
    "june_2021_tripdata = pd.read_csv(r'/Users/jessica/Desktop/Cyclistic-Bike/Data/202106-divvy-tripdata.csv')\n",
    "july_2021_tripdata = pd.read_csv(r'/Users/jessica/Desktop/Cyclistic-Bike/Data/202107-divvy-tripdata.csv')\n",
    "aug_2021_tripdata = pd.read_csv(r'/Users/jessica/Desktop/Cyclistic-Bike/Data/202108-divvy-tripdata.csv')\n",
    "sep_2021_tripdata = pd.read_csv(r'/Users/jessica/Desktop/Cyclistic-Bike/Data/202109-divvy-tripdata.csv')\n",
    "oct_2021_tripdata = pd.read_csv(r'/Users/jessica/Desktop/Cyclistic-Bike/Data/202110-divvy-tripdata.csv')\n",
    "nov_2021_tripdata = pd.read_csv(r'/Users/jessica/Desktop/Cyclistic-Bike/Data/202111-divvy-tripdata.csv')\n",
    "dec_2021_tripdata = pd.read_csv(r'/Users/jessica/Desktop/Cyclistic-Bike/Data/202112-divvy-tripdata.csv')\n",
    "jan_2022_tripdata = pd.read_csv(r'/Users/jessica/Desktop/Cyclistic-Bike/Data/202201-divvy-tripdata.csv')\n",
    "feb_2022_tripdata = pd.read_csv(r'/Users/jessica/Desktop/Cyclistic-Bike/Data/202202-divvy-tripdata.csv')\n",
    "mar_2022_tripdata = pd.read_csv(r'/Users/jessica/Desktop/Cyclistic-Bike/Data/202203-divvy-tripdata.csv')"
   ]
  },
  {
   "cell_type": "markdown",
   "id": "50c7e431",
   "metadata": {},
   "source": [
    "### Data Exploration"
   ]
  },
  {
   "cell_type": "markdown",
   "id": "abf9727a",
   "metadata": {},
   "source": [
    "#### Getting an overview of the data\n",
    "<p>Taking a first look at couple of the datasets.</p>"
   ]
  },
  {
   "cell_type": "code",
   "execution_count": 4,
   "id": "36d84852",
   "metadata": {},
   "outputs": [
    {
     "data": {
      "text/html": [
       "<div>\n",
       "<style scoped>\n",
       "    .dataframe tbody tr th:only-of-type {\n",
       "        vertical-align: middle;\n",
       "    }\n",
       "\n",
       "    .dataframe tbody tr th {\n",
       "        vertical-align: top;\n",
       "    }\n",
       "\n",
       "    .dataframe thead th {\n",
       "        text-align: right;\n",
       "    }\n",
       "</style>\n",
       "<table border=\"1\" class=\"dataframe\">\n",
       "  <thead>\n",
       "    <tr style=\"text-align: right;\">\n",
       "      <th></th>\n",
       "      <th>ride_id</th>\n",
       "      <th>rideable_type</th>\n",
       "      <th>started_at</th>\n",
       "      <th>ended_at</th>\n",
       "      <th>start_station_name</th>\n",
       "      <th>start_station_id</th>\n",
       "      <th>end_station_name</th>\n",
       "      <th>end_station_id</th>\n",
       "      <th>start_lat</th>\n",
       "      <th>start_lng</th>\n",
       "      <th>end_lat</th>\n",
       "      <th>end_lng</th>\n",
       "      <th>member_casual</th>\n",
       "    </tr>\n",
       "  </thead>\n",
       "  <tbody>\n",
       "    <tr>\n",
       "      <th>0</th>\n",
       "      <td>6C992BD37A98A63F</td>\n",
       "      <td>classic_bike</td>\n",
       "      <td>2021-04-12 18:25:36</td>\n",
       "      <td>2021-04-12 18:56:55</td>\n",
       "      <td>State St &amp; Pearson St</td>\n",
       "      <td>TA1307000061</td>\n",
       "      <td>Southport Ave &amp; Waveland Ave</td>\n",
       "      <td>13235</td>\n",
       "      <td>41.897448</td>\n",
       "      <td>-87.628722</td>\n",
       "      <td>41.948150</td>\n",
       "      <td>-87.663940</td>\n",
       "      <td>member</td>\n",
       "    </tr>\n",
       "    <tr>\n",
       "      <th>1</th>\n",
       "      <td>1E0145613A209000</td>\n",
       "      <td>docked_bike</td>\n",
       "      <td>2021-04-27 17:27:11</td>\n",
       "      <td>2021-04-27 18:31:29</td>\n",
       "      <td>Dorchester Ave &amp; 49th St</td>\n",
       "      <td>KA1503000069</td>\n",
       "      <td>Dorchester Ave &amp; 49th St</td>\n",
       "      <td>KA1503000069</td>\n",
       "      <td>41.805772</td>\n",
       "      <td>-87.592464</td>\n",
       "      <td>41.805772</td>\n",
       "      <td>-87.592464</td>\n",
       "      <td>casual</td>\n",
       "    </tr>\n",
       "    <tr>\n",
       "      <th>2</th>\n",
       "      <td>E498E15508A80BAD</td>\n",
       "      <td>docked_bike</td>\n",
       "      <td>2021-04-03 12:42:45</td>\n",
       "      <td>2021-04-07 11:40:24</td>\n",
       "      <td>Loomis Blvd &amp; 84th St</td>\n",
       "      <td>20121</td>\n",
       "      <td>Loomis Blvd &amp; 84th St</td>\n",
       "      <td>20121</td>\n",
       "      <td>41.741487</td>\n",
       "      <td>-87.658410</td>\n",
       "      <td>41.741487</td>\n",
       "      <td>-87.658410</td>\n",
       "      <td>casual</td>\n",
       "    </tr>\n",
       "    <tr>\n",
       "      <th>3</th>\n",
       "      <td>1887262AD101C604</td>\n",
       "      <td>classic_bike</td>\n",
       "      <td>2021-04-17 09:17:42</td>\n",
       "      <td>2021-04-17 09:42:48</td>\n",
       "      <td>Honore St &amp; Division St</td>\n",
       "      <td>TA1305000034</td>\n",
       "      <td>Southport Ave &amp; Waveland Ave</td>\n",
       "      <td>13235</td>\n",
       "      <td>41.903119</td>\n",
       "      <td>-87.673935</td>\n",
       "      <td>41.948150</td>\n",
       "      <td>-87.663940</td>\n",
       "      <td>member</td>\n",
       "    </tr>\n",
       "    <tr>\n",
       "      <th>4</th>\n",
       "      <td>C123548CAB2A32A5</td>\n",
       "      <td>docked_bike</td>\n",
       "      <td>2021-04-03 12:42:25</td>\n",
       "      <td>2021-04-03 14:13:42</td>\n",
       "      <td>Loomis Blvd &amp; 84th St</td>\n",
       "      <td>20121</td>\n",
       "      <td>Loomis Blvd &amp; 84th St</td>\n",
       "      <td>20121</td>\n",
       "      <td>41.741487</td>\n",
       "      <td>-87.658410</td>\n",
       "      <td>41.741487</td>\n",
       "      <td>-87.658410</td>\n",
       "      <td>casual</td>\n",
       "    </tr>\n",
       "  </tbody>\n",
       "</table>\n",
       "</div>"
      ],
      "text/plain": [
       "            ride_id rideable_type           started_at             ended_at  \\\n",
       "0  6C992BD37A98A63F  classic_bike  2021-04-12 18:25:36  2021-04-12 18:56:55   \n",
       "1  1E0145613A209000   docked_bike  2021-04-27 17:27:11  2021-04-27 18:31:29   \n",
       "2  E498E15508A80BAD   docked_bike  2021-04-03 12:42:45  2021-04-07 11:40:24   \n",
       "3  1887262AD101C604  classic_bike  2021-04-17 09:17:42  2021-04-17 09:42:48   \n",
       "4  C123548CAB2A32A5   docked_bike  2021-04-03 12:42:25  2021-04-03 14:13:42   \n",
       "\n",
       "         start_station_name start_station_id              end_station_name  \\\n",
       "0     State St & Pearson St     TA1307000061  Southport Ave & Waveland Ave   \n",
       "1  Dorchester Ave & 49th St     KA1503000069      Dorchester Ave & 49th St   \n",
       "2     Loomis Blvd & 84th St            20121         Loomis Blvd & 84th St   \n",
       "3   Honore St & Division St     TA1305000034  Southport Ave & Waveland Ave   \n",
       "4     Loomis Blvd & 84th St            20121         Loomis Blvd & 84th St   \n",
       "\n",
       "  end_station_id  start_lat  start_lng    end_lat    end_lng member_casual  \n",
       "0          13235  41.897448 -87.628722  41.948150 -87.663940        member  \n",
       "1   KA1503000069  41.805772 -87.592464  41.805772 -87.592464        casual  \n",
       "2          20121  41.741487 -87.658410  41.741487 -87.658410        casual  \n",
       "3          13235  41.903119 -87.673935  41.948150 -87.663940        member  \n",
       "4          20121  41.741487 -87.658410  41.741487 -87.658410        casual  "
      ]
     },
     "execution_count": 4,
     "metadata": {},
     "output_type": "execute_result"
    }
   ],
   "source": [
    "april_2021_tripdata.head()"
   ]
  },
  {
   "cell_type": "code",
   "execution_count": 5,
   "id": "b7826855",
   "metadata": {},
   "outputs": [
    {
     "data": {
      "text/html": [
       "<div>\n",
       "<style scoped>\n",
       "    .dataframe tbody tr th:only-of-type {\n",
       "        vertical-align: middle;\n",
       "    }\n",
       "\n",
       "    .dataframe tbody tr th {\n",
       "        vertical-align: top;\n",
       "    }\n",
       "\n",
       "    .dataframe thead th {\n",
       "        text-align: right;\n",
       "    }\n",
       "</style>\n",
       "<table border=\"1\" class=\"dataframe\">\n",
       "  <thead>\n",
       "    <tr style=\"text-align: right;\">\n",
       "      <th></th>\n",
       "      <th>ride_id</th>\n",
       "      <th>rideable_type</th>\n",
       "      <th>started_at</th>\n",
       "      <th>ended_at</th>\n",
       "      <th>start_station_name</th>\n",
       "      <th>start_station_id</th>\n",
       "      <th>end_station_name</th>\n",
       "      <th>end_station_id</th>\n",
       "      <th>start_lat</th>\n",
       "      <th>start_lng</th>\n",
       "      <th>end_lat</th>\n",
       "      <th>end_lng</th>\n",
       "      <th>member_casual</th>\n",
       "    </tr>\n",
       "  </thead>\n",
       "  <tbody>\n",
       "    <tr>\n",
       "      <th>0</th>\n",
       "      <td>C2F7DD78E82EC875</td>\n",
       "      <td>electric_bike</td>\n",
       "      <td>2022-01-13 11:59:47</td>\n",
       "      <td>2022-01-13 12:02:44</td>\n",
       "      <td>Glenwood Ave &amp; Touhy Ave</td>\n",
       "      <td>525</td>\n",
       "      <td>Clark St &amp; Touhy Ave</td>\n",
       "      <td>RP-007</td>\n",
       "      <td>42.012800</td>\n",
       "      <td>-87.665906</td>\n",
       "      <td>42.012560</td>\n",
       "      <td>-87.674367</td>\n",
       "      <td>casual</td>\n",
       "    </tr>\n",
       "    <tr>\n",
       "      <th>1</th>\n",
       "      <td>A6CF8980A652D272</td>\n",
       "      <td>electric_bike</td>\n",
       "      <td>2022-01-10 08:41:56</td>\n",
       "      <td>2022-01-10 08:46:17</td>\n",
       "      <td>Glenwood Ave &amp; Touhy Ave</td>\n",
       "      <td>525</td>\n",
       "      <td>Clark St &amp; Touhy Ave</td>\n",
       "      <td>RP-007</td>\n",
       "      <td>42.012763</td>\n",
       "      <td>-87.665967</td>\n",
       "      <td>42.012560</td>\n",
       "      <td>-87.674367</td>\n",
       "      <td>casual</td>\n",
       "    </tr>\n",
       "    <tr>\n",
       "      <th>2</th>\n",
       "      <td>BD0F91DFF741C66D</td>\n",
       "      <td>classic_bike</td>\n",
       "      <td>2022-01-25 04:53:40</td>\n",
       "      <td>2022-01-25 04:58:01</td>\n",
       "      <td>Sheffield Ave &amp; Fullerton Ave</td>\n",
       "      <td>TA1306000016</td>\n",
       "      <td>Greenview Ave &amp; Fullerton Ave</td>\n",
       "      <td>TA1307000001</td>\n",
       "      <td>41.925602</td>\n",
       "      <td>-87.653708</td>\n",
       "      <td>41.925330</td>\n",
       "      <td>-87.665800</td>\n",
       "      <td>member</td>\n",
       "    </tr>\n",
       "    <tr>\n",
       "      <th>3</th>\n",
       "      <td>CBB80ED419105406</td>\n",
       "      <td>classic_bike</td>\n",
       "      <td>2022-01-04 00:18:04</td>\n",
       "      <td>2022-01-04 00:33:00</td>\n",
       "      <td>Clark St &amp; Bryn Mawr Ave</td>\n",
       "      <td>KA1504000151</td>\n",
       "      <td>Paulina St &amp; Montrose Ave</td>\n",
       "      <td>TA1309000021</td>\n",
       "      <td>41.983593</td>\n",
       "      <td>-87.669154</td>\n",
       "      <td>41.961507</td>\n",
       "      <td>-87.671387</td>\n",
       "      <td>casual</td>\n",
       "    </tr>\n",
       "    <tr>\n",
       "      <th>4</th>\n",
       "      <td>DDC963BFDDA51EEA</td>\n",
       "      <td>classic_bike</td>\n",
       "      <td>2022-01-20 01:31:10</td>\n",
       "      <td>2022-01-20 01:37:12</td>\n",
       "      <td>Michigan Ave &amp; Jackson Blvd</td>\n",
       "      <td>TA1309000002</td>\n",
       "      <td>State St &amp; Randolph St</td>\n",
       "      <td>TA1305000029</td>\n",
       "      <td>41.877850</td>\n",
       "      <td>-87.624080</td>\n",
       "      <td>41.884621</td>\n",
       "      <td>-87.627834</td>\n",
       "      <td>member</td>\n",
       "    </tr>\n",
       "  </tbody>\n",
       "</table>\n",
       "</div>"
      ],
      "text/plain": [
       "            ride_id  rideable_type           started_at             ended_at  \\\n",
       "0  C2F7DD78E82EC875  electric_bike  2022-01-13 11:59:47  2022-01-13 12:02:44   \n",
       "1  A6CF8980A652D272  electric_bike  2022-01-10 08:41:56  2022-01-10 08:46:17   \n",
       "2  BD0F91DFF741C66D   classic_bike  2022-01-25 04:53:40  2022-01-25 04:58:01   \n",
       "3  CBB80ED419105406   classic_bike  2022-01-04 00:18:04  2022-01-04 00:33:00   \n",
       "4  DDC963BFDDA51EEA   classic_bike  2022-01-20 01:31:10  2022-01-20 01:37:12   \n",
       "\n",
       "              start_station_name start_station_id  \\\n",
       "0       Glenwood Ave & Touhy Ave              525   \n",
       "1       Glenwood Ave & Touhy Ave              525   \n",
       "2  Sheffield Ave & Fullerton Ave     TA1306000016   \n",
       "3       Clark St & Bryn Mawr Ave     KA1504000151   \n",
       "4    Michigan Ave & Jackson Blvd     TA1309000002   \n",
       "\n",
       "                end_station_name end_station_id  start_lat  start_lng  \\\n",
       "0           Clark St & Touhy Ave         RP-007  42.012800 -87.665906   \n",
       "1           Clark St & Touhy Ave         RP-007  42.012763 -87.665967   \n",
       "2  Greenview Ave & Fullerton Ave   TA1307000001  41.925602 -87.653708   \n",
       "3      Paulina St & Montrose Ave   TA1309000021  41.983593 -87.669154   \n",
       "4         State St & Randolph St   TA1305000029  41.877850 -87.624080   \n",
       "\n",
       "     end_lat    end_lng member_casual  \n",
       "0  42.012560 -87.674367        casual  \n",
       "1  42.012560 -87.674367        casual  \n",
       "2  41.925330 -87.665800        member  \n",
       "3  41.961507 -87.671387        casual  \n",
       "4  41.884621 -87.627834        member  "
      ]
     },
     "execution_count": 5,
     "metadata": {},
     "output_type": "execute_result"
    }
   ],
   "source": [
    "jan_2022_tripdata.head()"
   ]
  },
  {
   "cell_type": "markdown",
   "id": "9853206b",
   "metadata": {},
   "source": [
    "> **Note:** As shown above, the datasets contain the same columns. Since <b>there are 12 datasets, we should combine them into only one.</b> This will make it alot easier to clean the data, make any transformations, and perform analysis. \n",
    "> In order to do this, we will use the <b>concat()</b> function, think of it as Python's version of a SQL UNION."
   ]
  },
  {
   "cell_type": "markdown",
   "id": "91b12530",
   "metadata": {},
   "source": [
    "#### Combining all of the datasets into one with concat()"
   ]
  },
  {
   "cell_type": "code",
   "execution_count": 6,
   "id": "e22e8138",
   "metadata": {},
   "outputs": [],
   "source": [
    "trip_data = pd.concat([\n",
    "                        april_2021_tripdata,\n",
    "                        may_2021_tripdata,\n",
    "                        june_2021_tripdata,\n",
    "                        july_2021_tripdata,\n",
    "                        aug_2021_tripdata,\n",
    "                        sep_2021_tripdata,\n",
    "                        oct_2021_tripdata,\n",
    "                        nov_2021_tripdata,\n",
    "                        dec_2021_tripdata,\n",
    "                        jan_2022_tripdata,\n",
    "                        feb_2022_tripdata,\n",
    "                        mar_2022_tripdata\n",
    "                      ])"
   ]
  },
  {
   "cell_type": "markdown",
   "id": "8435c6a3",
   "metadata": {},
   "source": [
    "#### Checking the data types in the dataset\n",
    "<p>Checking the data types to get an idea with what I will be working with.</p>"
   ]
  },
  {
   "cell_type": "code",
   "execution_count": 7,
   "id": "7e75f687",
   "metadata": {},
   "outputs": [
    {
     "data": {
      "text/plain": [
       "ride_id                object\n",
       "rideable_type          object\n",
       "started_at             object\n",
       "ended_at               object\n",
       "start_station_name     object\n",
       "start_station_id       object\n",
       "end_station_name       object\n",
       "end_station_id         object\n",
       "start_lat             float64\n",
       "start_lng             float64\n",
       "end_lat               float64\n",
       "end_lng               float64\n",
       "member_casual          object\n",
       "dtype: object"
      ]
     },
     "execution_count": 7,
     "metadata": {},
     "output_type": "execute_result"
    }
   ],
   "source": [
    "trip_data.dtypes"
   ]
  },
  {
   "cell_type": "markdown",
   "id": "a0609d6a",
   "metadata": {},
   "source": [
    "#### Taking a closer look at the dataset\n",
    "<p>The next step involves learning more about some of our dataset's characteristics, so we can understand its content better.</p>\n",
    "\n",
    "##### How many unique rides are there in total?"
   ]
  },
  {
   "cell_type": "code",
   "execution_count": 9,
   "id": "3bc3a28e",
   "metadata": {},
   "outputs": [
    {
     "data": {
      "text/plain": [
       "5723532"
      ]
     },
     "execution_count": 9,
     "metadata": {},
     "output_type": "execute_result"
    }
   ],
   "source": [
    "trip_data.ride_id.nunique()"
   ]
  },
  {
   "cell_type": "markdown",
   "id": "b1da85de",
   "metadata": {},
   "source": [
    "##### How many types of bikes are there?"
   ]
  },
  {
   "cell_type": "code",
   "execution_count": 10,
   "id": "3052458b",
   "metadata": {},
   "outputs": [
    {
     "data": {
      "text/plain": [
       "3"
      ]
     },
     "execution_count": 10,
     "metadata": {},
     "output_type": "execute_result"
    }
   ],
   "source": [
    "trip_data.rideable_type.nunique()"
   ]
  },
  {
   "cell_type": "markdown",
   "id": "2150ef6e",
   "metadata": {},
   "source": [
    "##### How many rows and columns are there in the dataframe?"
   ]
  },
  {
   "cell_type": "code",
   "execution_count": 11,
   "id": "3932664a",
   "metadata": {},
   "outputs": [
    {
     "data": {
      "text/plain": [
       "(5723532, 13)"
      ]
     },
     "execution_count": 11,
     "metadata": {},
     "output_type": "execute_result"
    }
   ],
   "source": [
    "trip_data.shape"
   ]
  },
  {
   "cell_type": "markdown",
   "id": "786dcf43",
   "metadata": {},
   "source": [
    "### Cleaning Data\n",
    "<p>Now, it is time to make sure that the data is clean and tidy before conducting analysis.</p>"
   ]
  },
  {
   "cell_type": "markdown",
   "id": "2c7320e0",
   "metadata": {},
   "source": [
    "#### Checking for empty cells"
   ]
  },
  {
   "cell_type": "code",
   "execution_count": 12,
   "id": "a1ec8299",
   "metadata": {},
   "outputs": [
    {
     "data": {
      "text/plain": [
       "ride_id               False\n",
       "rideable_type         False\n",
       "started_at            False\n",
       "ended_at              False\n",
       "start_station_name     True\n",
       "start_station_id       True\n",
       "end_station_name       True\n",
       "end_station_id         True\n",
       "start_lat             False\n",
       "start_lng             False\n",
       "end_lat                True\n",
       "end_lng                True\n",
       "member_casual         False\n",
       "dtype: bool"
      ]
     },
     "execution_count": 12,
     "metadata": {},
     "output_type": "execute_result"
    }
   ],
   "source": [
    "trip_data.isnull().any()"
   ]
  },
  {
   "cell_type": "markdown",
   "id": "b621f05c",
   "metadata": {},
   "source": [
    "> **Note:** There are null values in our dataset. Next let's see how many of them are we dealing with?"
   ]
  },
  {
   "cell_type": "code",
   "execution_count": 13,
   "id": "61e5bc35",
   "metadata": {},
   "outputs": [
    {
     "data": {
      "text/plain": [
       "3092675"
      ]
     },
     "execution_count": 13,
     "metadata": {},
     "output_type": "execute_result"
    }
   ],
   "source": [
    "trip_data.isnull().values.sum()"
   ]
  },
  {
   "cell_type": "markdown",
   "id": "6fc03444",
   "metadata": {},
   "source": [
    "> **Note:** As shown above, there are null values in the following columns : <i>start_station_name, start_station_id, end_station_name, end_station_id, end_lat, end_lng</i>.\n",
    "> <p>Given that going onwards I will not be using these columns mentioned above for the analysis, so there is no concern about removing the null values, hence; going to drop the columns altogether.</p>"
   ]
  },
  {
   "cell_type": "markdown",
   "id": "1a231090",
   "metadata": {},
   "source": [
    "#### Dropping Unnnecessary Columns"
   ]
  },
  {
   "cell_type": "code",
   "execution_count": 22,
   "id": "e082aa33",
   "metadata": {},
   "outputs": [],
   "source": [
    "to_drop = [\n",
    "            'start_station_name',\n",
    "            'start_station_id',\n",
    "            'end_station_name',\n",
    "            'end_station_id',\n",
    "            'start_lat',\n",
    "            'start_lng',\n",
    "            'end_lat',\n",
    "            'end_lng'\n",
    "          ]\n",
    "\n",
    "trip_data.drop(to_drop, inplace=True, axis=1)"
   ]
  },
  {
   "cell_type": "code",
   "execution_count": 23,
   "id": "d713063f",
   "metadata": {},
   "outputs": [
    {
     "data": {
      "text/plain": [
       "ride_id          object\n",
       "rideable_type    object\n",
       "started_at       object\n",
       "ended_at         object\n",
       "member_casual    object\n",
       "dtype: object"
      ]
     },
     "execution_count": 23,
     "metadata": {},
     "output_type": "execute_result"
    }
   ],
   "source": [
    "trip_data.dtypes"
   ]
  },
  {
   "cell_type": "code",
   "execution_count": 24,
   "id": "7ab48c3a",
   "metadata": {},
   "outputs": [
    {
     "data": {
      "text/html": [
       "<div>\n",
       "<style scoped>\n",
       "    .dataframe tbody tr th:only-of-type {\n",
       "        vertical-align: middle;\n",
       "    }\n",
       "\n",
       "    .dataframe tbody tr th {\n",
       "        vertical-align: top;\n",
       "    }\n",
       "\n",
       "    .dataframe thead th {\n",
       "        text-align: right;\n",
       "    }\n",
       "</style>\n",
       "<table border=\"1\" class=\"dataframe\">\n",
       "  <thead>\n",
       "    <tr style=\"text-align: right;\">\n",
       "      <th></th>\n",
       "      <th>ride_id</th>\n",
       "      <th>rideable_type</th>\n",
       "      <th>started_at</th>\n",
       "      <th>ended_at</th>\n",
       "      <th>member_casual</th>\n",
       "    </tr>\n",
       "  </thead>\n",
       "  <tbody>\n",
       "    <tr>\n",
       "      <th>0</th>\n",
       "      <td>6C992BD37A98A63F</td>\n",
       "      <td>classic_bike</td>\n",
       "      <td>2021-04-12 18:25:36</td>\n",
       "      <td>2021-04-12 18:56:55</td>\n",
       "      <td>member</td>\n",
       "    </tr>\n",
       "    <tr>\n",
       "      <th>1</th>\n",
       "      <td>1E0145613A209000</td>\n",
       "      <td>docked_bike</td>\n",
       "      <td>2021-04-27 17:27:11</td>\n",
       "      <td>2021-04-27 18:31:29</td>\n",
       "      <td>casual</td>\n",
       "    </tr>\n",
       "    <tr>\n",
       "      <th>2</th>\n",
       "      <td>E498E15508A80BAD</td>\n",
       "      <td>docked_bike</td>\n",
       "      <td>2021-04-03 12:42:45</td>\n",
       "      <td>2021-04-07 11:40:24</td>\n",
       "      <td>casual</td>\n",
       "    </tr>\n",
       "    <tr>\n",
       "      <th>3</th>\n",
       "      <td>1887262AD101C604</td>\n",
       "      <td>classic_bike</td>\n",
       "      <td>2021-04-17 09:17:42</td>\n",
       "      <td>2021-04-17 09:42:48</td>\n",
       "      <td>member</td>\n",
       "    </tr>\n",
       "    <tr>\n",
       "      <th>4</th>\n",
       "      <td>C123548CAB2A32A5</td>\n",
       "      <td>docked_bike</td>\n",
       "      <td>2021-04-03 12:42:25</td>\n",
       "      <td>2021-04-03 14:13:42</td>\n",
       "      <td>casual</td>\n",
       "    </tr>\n",
       "  </tbody>\n",
       "</table>\n",
       "</div>"
      ],
      "text/plain": [
       "            ride_id rideable_type           started_at             ended_at  \\\n",
       "0  6C992BD37A98A63F  classic_bike  2021-04-12 18:25:36  2021-04-12 18:56:55   \n",
       "1  1E0145613A209000   docked_bike  2021-04-27 17:27:11  2021-04-27 18:31:29   \n",
       "2  E498E15508A80BAD   docked_bike  2021-04-03 12:42:45  2021-04-07 11:40:24   \n",
       "3  1887262AD101C604  classic_bike  2021-04-17 09:17:42  2021-04-17 09:42:48   \n",
       "4  C123548CAB2A32A5   docked_bike  2021-04-03 12:42:25  2021-04-03 14:13:42   \n",
       "\n",
       "  member_casual  \n",
       "0        member  \n",
       "1        casual  \n",
       "2        casual  \n",
       "3        member  \n",
       "4        casual  "
      ]
     },
     "execution_count": 24,
     "metadata": {},
     "output_type": "execute_result"
    }
   ],
   "source": [
    "trip_data.head()"
   ]
  },
  {
   "cell_type": "markdown",
   "id": "de89492f",
   "metadata": {},
   "source": [
    "#### Looking for duplicate values"
   ]
  },
  {
   "cell_type": "code",
   "execution_count": 25,
   "id": "fe2ded79",
   "metadata": {},
   "outputs": [
    {
     "data": {
      "text/plain": [
       "0         False\n",
       "1         False\n",
       "2         False\n",
       "3         False\n",
       "4         False\n",
       "          ...  \n",
       "284037    False\n",
       "284038    False\n",
       "284039    False\n",
       "284040    False\n",
       "284041    False\n",
       "Length: 5723532, dtype: bool"
      ]
     },
     "execution_count": 25,
     "metadata": {},
     "output_type": "execute_result"
    }
   ],
   "source": [
    "trip_data.duplicated()"
   ]
  },
  {
   "cell_type": "markdown",
   "id": "78472b7f",
   "metadata": {},
   "source": [
    "> **Note:** No duplicate rows found."
   ]
  },
  {
   "cell_type": "markdown",
   "id": "bf98a34f",
   "metadata": {},
   "source": [
    "## 4. ANALYZE\n",
    "<p>Now, I will perform data transformation and change data formatting to perform analysis.</p>"
   ]
  },
  {
   "cell_type": "markdown",
   "id": "792777b3",
   "metadata": {},
   "source": [
    "### Data Tranformation\n",
    "<p>In this step, I will transform certain aspects of the data in order to analyze them.</p>"
   ]
  },
  {
   "cell_type": "markdown",
   "id": "1ff071ee",
   "metadata": {},
   "source": [
    "#### Changing data formatting\n",
    "<p>When using dtypes, note that some of the columns are of type object. These columns need to be changed to the data type from columns started_at and ended_at to datetime to perform certain calculations.</p>"
   ]
  },
  {
   "cell_type": "code",
   "execution_count": 26,
   "id": "322c8a33",
   "metadata": {},
   "outputs": [],
   "source": [
    "trip_data['started_at'] = pd.to_datetime(trip_data['started_at'])\n",
    "\n",
    "trip_data['ended_at'] = pd.to_datetime(trip_data['ended_at'])"
   ]
  },
  {
   "cell_type": "markdown",
   "id": "5ba5549f",
   "metadata": {},
   "source": [
    "#### Creating an hour column"
   ]
  },
  {
   "cell_type": "code",
   "execution_count": 28,
   "id": "71b57db8",
   "metadata": {},
   "outputs": [],
   "source": [
    "trip_data['hour'] = trip_data['started_at'].dt.hour\n",
    "\n",
    "trip_data = trip_data.astype({'hour' : 'int8'})"
   ]
  },
  {
   "cell_type": "markdown",
   "id": "74a88bc1",
   "metadata": {},
   "source": [
    "#### Creating a day of the week column"
   ]
  },
  {
   "cell_type": "code",
   "execution_count": 29,
   "id": "7f5c3814",
   "metadata": {},
   "outputs": [],
   "source": [
    "trip_data['dayofweek'] = trip_data['started_at'].dt.day_name()"
   ]
  },
  {
   "cell_type": "markdown",
   "id": "77cdcdb4",
   "metadata": {},
   "source": [
    "#### Creating a month column"
   ]
  },
  {
   "cell_type": "code",
   "execution_count": 30,
   "id": "fb84de9f",
   "metadata": {},
   "outputs": [],
   "source": [
    "trip_data['month'] = trip_data['started_at'].dt.month_name()"
   ]
  },
  {
   "cell_type": "markdown",
   "id": "50fd046c",
   "metadata": {},
   "source": [
    "#### Creating a ride length column"
   ]
  },
  {
   "cell_type": "code",
   "execution_count": 31,
   "id": "e15e413f",
   "metadata": {},
   "outputs": [],
   "source": [
    "trip_data['ride_length'] = (trip_data['ended_at'] - trip_data['started_at']) / datetime.timedelta(minutes=1)\n",
    "\n",
    "trip_data['ride_length'] = trip_data['ride_length'].astype('int32')"
   ]
  },
  {
   "cell_type": "markdown",
   "id": "d052ed1f",
   "metadata": {},
   "source": [
    "#### Removing Outliers\n",
    "<p>Now, I will check for any rows with zero or negative values in ride_length column and remove them.</p>"
   ]
  },
  {
   "cell_type": "code",
   "execution_count": 32,
   "id": "76d4b646",
   "metadata": {},
   "outputs": [
    {
     "data": {
      "text/plain": [
       "ride_id          89375\n",
       "rideable_type    89375\n",
       "started_at       89375\n",
       "ended_at         89375\n",
       "member_casual    89375\n",
       "hour             89375\n",
       "dayofweek        89375\n",
       "month            89375\n",
       "ride_length      89375\n",
       "dtype: int64"
      ]
     },
     "execution_count": 32,
     "metadata": {},
     "output_type": "execute_result"
    }
   ],
   "source": [
    "trip_data[ trip_data['ride_length'] <= 0].count()"
   ]
  },
  {
   "cell_type": "code",
   "execution_count": 33,
   "id": "4be0c31d",
   "metadata": {},
   "outputs": [],
   "source": [
    "# removing rows with zero or negative values\n",
    "trip_data = trip_data.drop(trip_data[trip_data.ride_length <= 0].index)"
   ]
  },
  {
   "cell_type": "code",
   "execution_count": 34,
   "id": "74281919",
   "metadata": {},
   "outputs": [
    {
     "data": {
      "text/html": [
       "<div>\n",
       "<style scoped>\n",
       "    .dataframe tbody tr th:only-of-type {\n",
       "        vertical-align: middle;\n",
       "    }\n",
       "\n",
       "    .dataframe tbody tr th {\n",
       "        vertical-align: top;\n",
       "    }\n",
       "\n",
       "    .dataframe thead th {\n",
       "        text-align: right;\n",
       "    }\n",
       "</style>\n",
       "<table border=\"1\" class=\"dataframe\">\n",
       "  <thead>\n",
       "    <tr style=\"text-align: right;\">\n",
       "      <th></th>\n",
       "      <th>ride_id</th>\n",
       "      <th>rideable_type</th>\n",
       "      <th>started_at</th>\n",
       "      <th>ended_at</th>\n",
       "      <th>member_casual</th>\n",
       "      <th>hour</th>\n",
       "      <th>dayofweek</th>\n",
       "      <th>month</th>\n",
       "      <th>ride_length</th>\n",
       "    </tr>\n",
       "  </thead>\n",
       "  <tbody>\n",
       "    <tr>\n",
       "      <th>0</th>\n",
       "      <td>6C992BD37A98A63F</td>\n",
       "      <td>classic_bike</td>\n",
       "      <td>2021-04-12 18:25:36</td>\n",
       "      <td>2021-04-12 18:56:55</td>\n",
       "      <td>member</td>\n",
       "      <td>18</td>\n",
       "      <td>Monday</td>\n",
       "      <td>April</td>\n",
       "      <td>31</td>\n",
       "    </tr>\n",
       "    <tr>\n",
       "      <th>1</th>\n",
       "      <td>1E0145613A209000</td>\n",
       "      <td>docked_bike</td>\n",
       "      <td>2021-04-27 17:27:11</td>\n",
       "      <td>2021-04-27 18:31:29</td>\n",
       "      <td>casual</td>\n",
       "      <td>17</td>\n",
       "      <td>Tuesday</td>\n",
       "      <td>April</td>\n",
       "      <td>64</td>\n",
       "    </tr>\n",
       "    <tr>\n",
       "      <th>2</th>\n",
       "      <td>E498E15508A80BAD</td>\n",
       "      <td>docked_bike</td>\n",
       "      <td>2021-04-03 12:42:45</td>\n",
       "      <td>2021-04-07 11:40:24</td>\n",
       "      <td>casual</td>\n",
       "      <td>12</td>\n",
       "      <td>Saturday</td>\n",
       "      <td>April</td>\n",
       "      <td>5697</td>\n",
       "    </tr>\n",
       "    <tr>\n",
       "      <th>3</th>\n",
       "      <td>1887262AD101C604</td>\n",
       "      <td>classic_bike</td>\n",
       "      <td>2021-04-17 09:17:42</td>\n",
       "      <td>2021-04-17 09:42:48</td>\n",
       "      <td>member</td>\n",
       "      <td>9</td>\n",
       "      <td>Saturday</td>\n",
       "      <td>April</td>\n",
       "      <td>25</td>\n",
       "    </tr>\n",
       "    <tr>\n",
       "      <th>4</th>\n",
       "      <td>C123548CAB2A32A5</td>\n",
       "      <td>docked_bike</td>\n",
       "      <td>2021-04-03 12:42:25</td>\n",
       "      <td>2021-04-03 14:13:42</td>\n",
       "      <td>casual</td>\n",
       "      <td>12</td>\n",
       "      <td>Saturday</td>\n",
       "      <td>April</td>\n",
       "      <td>91</td>\n",
       "    </tr>\n",
       "  </tbody>\n",
       "</table>\n",
       "</div>"
      ],
      "text/plain": [
       "            ride_id rideable_type          started_at            ended_at  \\\n",
       "0  6C992BD37A98A63F  classic_bike 2021-04-12 18:25:36 2021-04-12 18:56:55   \n",
       "1  1E0145613A209000   docked_bike 2021-04-27 17:27:11 2021-04-27 18:31:29   \n",
       "2  E498E15508A80BAD   docked_bike 2021-04-03 12:42:45 2021-04-07 11:40:24   \n",
       "3  1887262AD101C604  classic_bike 2021-04-17 09:17:42 2021-04-17 09:42:48   \n",
       "4  C123548CAB2A32A5   docked_bike 2021-04-03 12:42:25 2021-04-03 14:13:42   \n",
       "\n",
       "  member_casual  hour dayofweek  month  ride_length  \n",
       "0        member    18    Monday  April           31  \n",
       "1        casual    17   Tuesday  April           64  \n",
       "2        casual    12  Saturday  April         5697  \n",
       "3        member     9  Saturday  April           25  \n",
       "4        casual    12  Saturday  April           91  "
      ]
     },
     "execution_count": 34,
     "metadata": {},
     "output_type": "execute_result"
    }
   ],
   "source": [
    "trip_data.head()"
   ]
  },
  {
   "cell_type": "markdown",
   "id": "ef2a1245",
   "metadata": {},
   "source": [
    "### Trip Data\n",
    "<p>Take a close look at more specific information surrounding the dataframe. Since the business task is to find out how casual riders and members are using Cyclistic bikes differently, going to filter the data and create some pivot tables to compare the numbers from the two types of columns.</p>"
   ]
  },
  {
   "cell_type": "markdown",
   "id": "bc339d18",
   "metadata": {},
   "source": [
    "#### Rides by customer type"
   ]
  },
  {
   "cell_type": "code",
   "execution_count": 36,
   "id": "f5179e16",
   "metadata": {},
   "outputs": [
    {
     "data": {
      "text/html": [
       "<div>\n",
       "<style scoped>\n",
       "    .dataframe tbody tr th:only-of-type {\n",
       "        vertical-align: middle;\n",
       "    }\n",
       "\n",
       "    .dataframe tbody tr th {\n",
       "        vertical-align: top;\n",
       "    }\n",
       "\n",
       "    .dataframe thead th {\n",
       "        text-align: right;\n",
       "    }\n",
       "</style>\n",
       "<table border=\"1\" class=\"dataframe\">\n",
       "  <thead>\n",
       "    <tr style=\"text-align: right;\">\n",
       "      <th></th>\n",
       "      <th>ride_id</th>\n",
       "    </tr>\n",
       "    <tr>\n",
       "      <th>member_casual</th>\n",
       "      <th></th>\n",
       "    </tr>\n",
       "  </thead>\n",
       "  <tbody>\n",
       "    <tr>\n",
       "      <th>casual</th>\n",
       "      <td>2254755</td>\n",
       "    </tr>\n",
       "    <tr>\n",
       "      <th>member</th>\n",
       "      <td>2779130</td>\n",
       "    </tr>\n",
       "  </tbody>\n",
       "</table>\n",
       "</div>"
      ],
      "text/plain": [
       "               ride_id\n",
       "member_casual         \n",
       "casual         2254755\n",
       "member         2779130"
      ]
     },
     "execution_count": 36,
     "metadata": {},
     "output_type": "execute_result"
    }
   ],
   "source": [
    "ride_by_customer_type = trip_data.groupby('member_casual', as_index=True)[['ride_id']].count()\n",
    "ride_by_customer_type"
   ]
  },
  {
   "cell_type": "markdown",
   "id": "6471269a",
   "metadata": {},
   "source": [
    "#### Average ride length"
   ]
  },
  {
   "cell_type": "code",
   "execution_count": 38,
   "id": "a5a597b2",
   "metadata": {},
   "outputs": [
    {
     "data": {
      "text/html": [
       "<div>\n",
       "<style scoped>\n",
       "    .dataframe tbody tr th:only-of-type {\n",
       "        vertical-align: middle;\n",
       "    }\n",
       "\n",
       "    .dataframe tbody tr th {\n",
       "        vertical-align: top;\n",
       "    }\n",
       "\n",
       "    .dataframe thead th {\n",
       "        text-align: right;\n",
       "    }\n",
       "</style>\n",
       "<table border=\"1\" class=\"dataframe\">\n",
       "  <thead>\n",
       "    <tr style=\"text-align: right;\">\n",
       "      <th></th>\n",
       "      <th>ride_length</th>\n",
       "    </tr>\n",
       "    <tr>\n",
       "      <th>member_casual</th>\n",
       "      <th></th>\n",
       "    </tr>\n",
       "  </thead>\n",
       "  <tbody>\n",
       "    <tr>\n",
       "      <th>casual</th>\n",
       "      <td>31.701661</td>\n",
       "    </tr>\n",
       "    <tr>\n",
       "      <th>member</th>\n",
       "      <td>13.130528</td>\n",
       "    </tr>\n",
       "  </tbody>\n",
       "</table>\n",
       "</div>"
      ],
      "text/plain": [
       "               ride_length\n",
       "member_casual             \n",
       "casual           31.701661\n",
       "member           13.130528"
      ]
     },
     "execution_count": 38,
     "metadata": {},
     "output_type": "execute_result"
    }
   ],
   "source": [
    "avg_ride_length = trip_data.groupby('member_casual', as_index=True)[['ride_length']].mean() \n",
    "avg_ride_length"
   ]
  },
  {
   "cell_type": "markdown",
   "id": "d17193d5",
   "metadata": {},
   "source": [
    "#### The most popular rideable type"
   ]
  },
  {
   "cell_type": "code",
   "execution_count": 39,
   "id": "6e3d326a",
   "metadata": {},
   "outputs": [
    {
     "data": {
      "text/html": [
       "<div>\n",
       "<style scoped>\n",
       "    .dataframe tbody tr th:only-of-type {\n",
       "        vertical-align: middle;\n",
       "    }\n",
       "\n",
       "    .dataframe tbody tr th {\n",
       "        vertical-align: top;\n",
       "    }\n",
       "\n",
       "    .dataframe thead tr th {\n",
       "        text-align: left;\n",
       "    }\n",
       "\n",
       "    .dataframe thead tr:last-of-type th {\n",
       "        text-align: right;\n",
       "    }\n",
       "</style>\n",
       "<table border=\"1\" class=\"dataframe\">\n",
       "  <thead>\n",
       "    <tr>\n",
       "      <th></th>\n",
       "      <th></th>\n",
       "      <th>count</th>\n",
       "    </tr>\n",
       "    <tr>\n",
       "      <th></th>\n",
       "      <th></th>\n",
       "      <th>ride_id</th>\n",
       "    </tr>\n",
       "    <tr>\n",
       "      <th>rideable_type</th>\n",
       "      <th>member_casual</th>\n",
       "      <th></th>\n",
       "    </tr>\n",
       "  </thead>\n",
       "  <tbody>\n",
       "    <tr>\n",
       "      <th rowspan=\"2\" valign=\"top\">classic_bike</th>\n",
       "      <th>casual</th>\n",
       "      <td>1117481</td>\n",
       "    </tr>\n",
       "    <tr>\n",
       "      <th>member</th>\n",
       "      <td>1743648</td>\n",
       "    </tr>\n",
       "    <tr>\n",
       "      <th>docked_bike</th>\n",
       "      <th>casual</th>\n",
       "      <td>270290</td>\n",
       "    </tr>\n",
       "    <tr>\n",
       "      <th rowspan=\"2\" valign=\"top\">electric_bike</th>\n",
       "      <th>casual</th>\n",
       "      <td>866984</td>\n",
       "    </tr>\n",
       "    <tr>\n",
       "      <th>member</th>\n",
       "      <td>1035482</td>\n",
       "    </tr>\n",
       "    <tr>\n",
       "      <th>total count</th>\n",
       "      <th></th>\n",
       "      <td>5033885</td>\n",
       "    </tr>\n",
       "  </tbody>\n",
       "</table>\n",
       "</div>"
      ],
      "text/plain": [
       "                               count\n",
       "                             ride_id\n",
       "rideable_type member_casual         \n",
       "classic_bike  casual         1117481\n",
       "              member         1743648\n",
       "docked_bike   casual          270290\n",
       "electric_bike casual          866984\n",
       "              member         1035482\n",
       "total count                  5033885"
      ]
     },
     "execution_count": 39,
     "metadata": {},
     "output_type": "execute_result"
    }
   ],
   "source": [
    "rt_pivot = pd.pivot_table(trip_data, index=['rideable_type', 'member_casual'], values='ride_id', \n",
    "                          aggfunc=['count'],margins=True, margins_name='total count')\n",
    "rt_pivot"
   ]
  },
  {
   "cell_type": "markdown",
   "id": "3c99a56d",
   "metadata": {},
   "source": [
    "#### The most popular day of the week for bike rentals"
   ]
  },
  {
   "cell_type": "code",
   "execution_count": 40,
   "id": "1e39ec14",
   "metadata": {},
   "outputs": [
    {
     "data": {
      "text/html": [
       "<div>\n",
       "<style scoped>\n",
       "    .dataframe tbody tr th:only-of-type {\n",
       "        vertical-align: middle;\n",
       "    }\n",
       "\n",
       "    .dataframe tbody tr th {\n",
       "        vertical-align: top;\n",
       "    }\n",
       "\n",
       "    .dataframe thead tr th {\n",
       "        text-align: left;\n",
       "    }\n",
       "\n",
       "    .dataframe thead tr:last-of-type th {\n",
       "        text-align: right;\n",
       "    }\n",
       "</style>\n",
       "<table border=\"1\" class=\"dataframe\">\n",
       "  <thead>\n",
       "    <tr>\n",
       "      <th></th>\n",
       "      <th></th>\n",
       "      <th>count</th>\n",
       "    </tr>\n",
       "    <tr>\n",
       "      <th></th>\n",
       "      <th></th>\n",
       "      <th>ride_id</th>\n",
       "    </tr>\n",
       "    <tr>\n",
       "      <th>dayofweek</th>\n",
       "      <th>member_casual</th>\n",
       "      <th></th>\n",
       "    </tr>\n",
       "  </thead>\n",
       "  <tbody>\n",
       "    <tr>\n",
       "      <th rowspan=\"2\" valign=\"top\">Friday</th>\n",
       "      <th>casual</th>\n",
       "      <td>322980</td>\n",
       "    </tr>\n",
       "    <tr>\n",
       "      <th>member</th>\n",
       "      <td>396158</td>\n",
       "    </tr>\n",
       "    <tr>\n",
       "      <th rowspan=\"2\" valign=\"top\">Monday</th>\n",
       "      <th>casual</th>\n",
       "      <td>258779</td>\n",
       "    </tr>\n",
       "    <tr>\n",
       "      <th>member</th>\n",
       "      <td>383490</td>\n",
       "    </tr>\n",
       "    <tr>\n",
       "      <th rowspan=\"2\" valign=\"top\">Saturday</th>\n",
       "      <th>casual</th>\n",
       "      <td>487375</td>\n",
       "    </tr>\n",
       "    <tr>\n",
       "      <th>member</th>\n",
       "      <td>377868</td>\n",
       "    </tr>\n",
       "    <tr>\n",
       "      <th rowspan=\"2\" valign=\"top\">Sunday</th>\n",
       "      <th>casual</th>\n",
       "      <td>427227</td>\n",
       "    </tr>\n",
       "    <tr>\n",
       "      <th>member</th>\n",
       "      <td>339389</td>\n",
       "    </tr>\n",
       "    <tr>\n",
       "      <th rowspan=\"2\" valign=\"top\">Thursday</th>\n",
       "      <th>casual</th>\n",
       "      <td>260274</td>\n",
       "    </tr>\n",
       "    <tr>\n",
       "      <th>member</th>\n",
       "      <td>416080</td>\n",
       "    </tr>\n",
       "    <tr>\n",
       "      <th rowspan=\"2\" valign=\"top\">Tuesday</th>\n",
       "      <th>casual</th>\n",
       "      <td>244582</td>\n",
       "    </tr>\n",
       "    <tr>\n",
       "      <th>member</th>\n",
       "      <td>428673</td>\n",
       "    </tr>\n",
       "    <tr>\n",
       "      <th rowspan=\"2\" valign=\"top\">Wednesday</th>\n",
       "      <th>casual</th>\n",
       "      <td>253538</td>\n",
       "    </tr>\n",
       "    <tr>\n",
       "      <th>member</th>\n",
       "      <td>437472</td>\n",
       "    </tr>\n",
       "    <tr>\n",
       "      <th>total count</th>\n",
       "      <th></th>\n",
       "      <td>5033885</td>\n",
       "    </tr>\n",
       "  </tbody>\n",
       "</table>\n",
       "</div>"
      ],
      "text/plain": [
       "                             count\n",
       "                           ride_id\n",
       "dayofweek   member_casual         \n",
       "Friday      casual          322980\n",
       "            member          396158\n",
       "Monday      casual          258779\n",
       "            member          383490\n",
       "Saturday    casual          487375\n",
       "            member          377868\n",
       "Sunday      casual          427227\n",
       "            member          339389\n",
       "Thursday    casual          260274\n",
       "            member          416080\n",
       "Tuesday     casual          244582\n",
       "            member          428673\n",
       "Wednesday   casual          253538\n",
       "            member          437472\n",
       "total count                5033885"
      ]
     },
     "execution_count": 40,
     "metadata": {},
     "output_type": "execute_result"
    }
   ],
   "source": [
    "pdw_pivot = pd.pivot_table(trip_data, index=['dayofweek', 'member_casual'], values='ride_id', \n",
    "                          aggfunc=['count'],margins=True, margins_name='total count')\n",
    "pdw_pivot"
   ]
  },
  {
   "cell_type": "markdown",
   "id": "2615bc66",
   "metadata": {},
   "source": [
    "#### The most popular month for bike rentals"
   ]
  },
  {
   "cell_type": "code",
   "execution_count": 41,
   "id": "f489d939",
   "metadata": {},
   "outputs": [
    {
     "data": {
      "text/html": [
       "<div>\n",
       "<style scoped>\n",
       "    .dataframe tbody tr th:only-of-type {\n",
       "        vertical-align: middle;\n",
       "    }\n",
       "\n",
       "    .dataframe tbody tr th {\n",
       "        vertical-align: top;\n",
       "    }\n",
       "\n",
       "    .dataframe thead tr th {\n",
       "        text-align: left;\n",
       "    }\n",
       "\n",
       "    .dataframe thead tr:last-of-type th {\n",
       "        text-align: right;\n",
       "    }\n",
       "</style>\n",
       "<table border=\"1\" class=\"dataframe\">\n",
       "  <thead>\n",
       "    <tr>\n",
       "      <th></th>\n",
       "      <th></th>\n",
       "      <th>count</th>\n",
       "    </tr>\n",
       "    <tr>\n",
       "      <th></th>\n",
       "      <th></th>\n",
       "      <th>ride_id</th>\n",
       "    </tr>\n",
       "    <tr>\n",
       "      <th>month</th>\n",
       "      <th>member_casual</th>\n",
       "      <th></th>\n",
       "    </tr>\n",
       "  </thead>\n",
       "  <tbody>\n",
       "    <tr>\n",
       "      <th rowspan=\"2\" valign=\"top\">April</th>\n",
       "      <th>casual</th>\n",
       "      <td>117209</td>\n",
       "    </tr>\n",
       "    <tr>\n",
       "      <th>member</th>\n",
       "      <td>171767</td>\n",
       "    </tr>\n",
       "    <tr>\n",
       "      <th rowspan=\"2\" valign=\"top\">August</th>\n",
       "      <th>casual</th>\n",
       "      <td>369075</td>\n",
       "    </tr>\n",
       "    <tr>\n",
       "      <th>member</th>\n",
       "      <td>351604</td>\n",
       "    </tr>\n",
       "    <tr>\n",
       "      <th rowspan=\"2\" valign=\"top\">December</th>\n",
       "      <th>casual</th>\n",
       "      <td>59040</td>\n",
       "    </tr>\n",
       "    <tr>\n",
       "      <th>member</th>\n",
       "      <td>150139</td>\n",
       "    </tr>\n",
       "    <tr>\n",
       "      <th rowspan=\"2\" valign=\"top\">February</th>\n",
       "      <th>casual</th>\n",
       "      <td>17410</td>\n",
       "    </tr>\n",
       "    <tr>\n",
       "      <th>member</th>\n",
       "      <td>76655</td>\n",
       "    </tr>\n",
       "    <tr>\n",
       "      <th rowspan=\"2\" valign=\"top\">January</th>\n",
       "      <th>casual</th>\n",
       "      <td>15016</td>\n",
       "    </tr>\n",
       "    <tr>\n",
       "      <th>member</th>\n",
       "      <td>69310</td>\n",
       "    </tr>\n",
       "    <tr>\n",
       "      <th rowspan=\"2\" valign=\"top\">July</th>\n",
       "      <th>casual</th>\n",
       "      <td>398667</td>\n",
       "    </tr>\n",
       "    <tr>\n",
       "      <th>member</th>\n",
       "      <td>339152</td>\n",
       "    </tr>\n",
       "    <tr>\n",
       "      <th rowspan=\"2\" valign=\"top\">June</th>\n",
       "      <th>casual</th>\n",
       "      <td>330675</td>\n",
       "    </tr>\n",
       "    <tr>\n",
       "      <th>member</th>\n",
       "      <td>318942</td>\n",
       "    </tr>\n",
       "    <tr>\n",
       "      <th rowspan=\"2\" valign=\"top\">March</th>\n",
       "      <th>casual</th>\n",
       "      <td>76647</td>\n",
       "    </tr>\n",
       "    <tr>\n",
       "      <th>member</th>\n",
       "      <td>164695</td>\n",
       "    </tr>\n",
       "    <tr>\n",
       "      <th rowspan=\"2\" valign=\"top\">May</th>\n",
       "      <th>casual</th>\n",
       "      <td>225783</td>\n",
       "    </tr>\n",
       "    <tr>\n",
       "      <th>member</th>\n",
       "      <td>240162</td>\n",
       "    </tr>\n",
       "    <tr>\n",
       "      <th rowspan=\"2\" valign=\"top\">November</th>\n",
       "      <th>casual</th>\n",
       "      <td>92398</td>\n",
       "    </tr>\n",
       "    <tr>\n",
       "      <th>member</th>\n",
       "      <td>216891</td>\n",
       "    </tr>\n",
       "    <tr>\n",
       "      <th rowspan=\"2\" valign=\"top\">October</th>\n",
       "      <th>casual</th>\n",
       "      <td>227503</td>\n",
       "    </tr>\n",
       "    <tr>\n",
       "      <th>member</th>\n",
       "      <td>330873</td>\n",
       "    </tr>\n",
       "    <tr>\n",
       "      <th rowspan=\"2\" valign=\"top\">September</th>\n",
       "      <th>casual</th>\n",
       "      <td>325332</td>\n",
       "    </tr>\n",
       "    <tr>\n",
       "      <th>member</th>\n",
       "      <td>348940</td>\n",
       "    </tr>\n",
       "    <tr>\n",
       "      <th>total count</th>\n",
       "      <th></th>\n",
       "      <td>5033885</td>\n",
       "    </tr>\n",
       "  </tbody>\n",
       "</table>\n",
       "</div>"
      ],
      "text/plain": [
       "                             count\n",
       "                           ride_id\n",
       "month       member_casual         \n",
       "April       casual          117209\n",
       "            member          171767\n",
       "August      casual          369075\n",
       "            member          351604\n",
       "December    casual           59040\n",
       "            member          150139\n",
       "February    casual           17410\n",
       "            member           76655\n",
       "January     casual           15016\n",
       "            member           69310\n",
       "July        casual          398667\n",
       "            member          339152\n",
       "June        casual          330675\n",
       "            member          318942\n",
       "March       casual           76647\n",
       "            member          164695\n",
       "May         casual          225783\n",
       "            member          240162\n",
       "November    casual           92398\n",
       "            member          216891\n",
       "October     casual          227503\n",
       "            member          330873\n",
       "September   casual          325332\n",
       "            member          348940\n",
       "total count                5033885"
      ]
     },
     "execution_count": 41,
     "metadata": {},
     "output_type": "execute_result"
    }
   ],
   "source": [
    "pm_pivot = pd.pivot_table(trip_data, index=['month', 'member_casual'], values='ride_id', \n",
    "                          aggfunc=['count'],margins=True, margins_name='total count')\n",
    "pm_pivot"
   ]
  },
  {
   "cell_type": "markdown",
   "id": "a1742a14",
   "metadata": {},
   "source": [
    "#### The average ride length by the day of the week"
   ]
  },
  {
   "cell_type": "code",
   "execution_count": 43,
   "id": "407af69b",
   "metadata": {},
   "outputs": [
    {
     "data": {
      "text/html": [
       "<div>\n",
       "<style scoped>\n",
       "    .dataframe tbody tr th:only-of-type {\n",
       "        vertical-align: middle;\n",
       "    }\n",
       "\n",
       "    .dataframe tbody tr th {\n",
       "        vertical-align: top;\n",
       "    }\n",
       "\n",
       "    .dataframe thead tr th {\n",
       "        text-align: left;\n",
       "    }\n",
       "\n",
       "    .dataframe thead tr:last-of-type th {\n",
       "        text-align: right;\n",
       "    }\n",
       "</style>\n",
       "<table border=\"1\" class=\"dataframe\">\n",
       "  <thead>\n",
       "    <tr>\n",
       "      <th></th>\n",
       "      <th></th>\n",
       "      <th>mean</th>\n",
       "    </tr>\n",
       "    <tr>\n",
       "      <th></th>\n",
       "      <th></th>\n",
       "      <th>ride_length</th>\n",
       "    </tr>\n",
       "    <tr>\n",
       "      <th>dayofweek</th>\n",
       "      <th>member_casual</th>\n",
       "      <th></th>\n",
       "    </tr>\n",
       "  </thead>\n",
       "  <tbody>\n",
       "    <tr>\n",
       "      <th rowspan=\"2\" valign=\"top\">Friday</th>\n",
       "      <th>casual</th>\n",
       "      <td>30.335720</td>\n",
       "    </tr>\n",
       "    <tr>\n",
       "      <th>member</th>\n",
       "      <td>12.897266</td>\n",
       "    </tr>\n",
       "    <tr>\n",
       "      <th rowspan=\"2\" valign=\"top\">Monday</th>\n",
       "      <th>casual</th>\n",
       "      <td>31.462178</td>\n",
       "    </tr>\n",
       "    <tr>\n",
       "      <th>member</th>\n",
       "      <td>12.717466</td>\n",
       "    </tr>\n",
       "    <tr>\n",
       "      <th rowspan=\"2\" valign=\"top\">Saturday</th>\n",
       "      <th>casual</th>\n",
       "      <td>34.193541</td>\n",
       "    </tr>\n",
       "    <tr>\n",
       "      <th>member</th>\n",
       "      <td>14.813109</td>\n",
       "    </tr>\n",
       "    <tr>\n",
       "      <th rowspan=\"2\" valign=\"top\">Sunday</th>\n",
       "      <th>casual</th>\n",
       "      <td>37.478612</td>\n",
       "    </tr>\n",
       "    <tr>\n",
       "      <th>member</th>\n",
       "      <td>15.145217</td>\n",
       "    </tr>\n",
       "    <tr>\n",
       "      <th rowspan=\"2\" valign=\"top\">Thursday</th>\n",
       "      <th>casual</th>\n",
       "      <td>27.869610</td>\n",
       "    </tr>\n",
       "    <tr>\n",
       "      <th>member</th>\n",
       "      <td>12.309515</td>\n",
       "    </tr>\n",
       "    <tr>\n",
       "      <th rowspan=\"2\" valign=\"top\">Tuesday</th>\n",
       "      <th>casual</th>\n",
       "      <td>27.359450</td>\n",
       "    </tr>\n",
       "    <tr>\n",
       "      <th>member</th>\n",
       "      <td>12.241319</td>\n",
       "    </tr>\n",
       "    <tr>\n",
       "      <th rowspan=\"2\" valign=\"top\">Wednesday</th>\n",
       "      <th>casual</th>\n",
       "      <td>27.284194</td>\n",
       "    </tr>\n",
       "    <tr>\n",
       "      <th>member</th>\n",
       "      <td>12.339718</td>\n",
       "    </tr>\n",
       "    <tr>\n",
       "      <th>total ride_length mean</th>\n",
       "      <th></th>\n",
       "      <td>21.448826</td>\n",
       "    </tr>\n",
       "  </tbody>\n",
       "</table>\n",
       "</div>"
      ],
      "text/plain": [
       "                                            mean\n",
       "                                     ride_length\n",
       "dayofweek              member_casual            \n",
       "Friday                 casual          30.335720\n",
       "                       member          12.897266\n",
       "Monday                 casual          31.462178\n",
       "                       member          12.717466\n",
       "Saturday               casual          34.193541\n",
       "                       member          14.813109\n",
       "Sunday                 casual          37.478612\n",
       "                       member          15.145217\n",
       "Thursday               casual          27.869610\n",
       "                       member          12.309515\n",
       "Tuesday                casual          27.359450\n",
       "                       member          12.241319\n",
       "Wednesday              casual          27.284194\n",
       "                       member          12.339718\n",
       "total ride_length mean                 21.448826"
      ]
     },
     "execution_count": 43,
     "metadata": {},
     "output_type": "execute_result"
    }
   ],
   "source": [
    "rpw_pivot = pd.pivot_table(trip_data, index=['dayofweek', 'member_casual'], values='ride_length', \n",
    "                          aggfunc=['mean'],margins=True, margins_name='total ride_length mean')\n",
    "rpw_pivot"
   ]
  },
  {
   "cell_type": "markdown",
   "id": "4821ee42",
   "metadata": {},
   "source": [
    "#### The average ride length by month"
   ]
  },
  {
   "cell_type": "code",
   "execution_count": 44,
   "id": "a4e0abcf",
   "metadata": {},
   "outputs": [
    {
     "data": {
      "text/html": [
       "<div>\n",
       "<style scoped>\n",
       "    .dataframe tbody tr th:only-of-type {\n",
       "        vertical-align: middle;\n",
       "    }\n",
       "\n",
       "    .dataframe tbody tr th {\n",
       "        vertical-align: top;\n",
       "    }\n",
       "\n",
       "    .dataframe thead tr th {\n",
       "        text-align: left;\n",
       "    }\n",
       "\n",
       "    .dataframe thead tr:last-of-type th {\n",
       "        text-align: right;\n",
       "    }\n",
       "</style>\n",
       "<table border=\"1\" class=\"dataframe\">\n",
       "  <thead>\n",
       "    <tr>\n",
       "      <th></th>\n",
       "      <th></th>\n",
       "      <th>mean</th>\n",
       "    </tr>\n",
       "    <tr>\n",
       "      <th></th>\n",
       "      <th></th>\n",
       "      <th>ride_length</th>\n",
       "    </tr>\n",
       "    <tr>\n",
       "      <th>month</th>\n",
       "      <th>member_casual</th>\n",
       "      <th></th>\n",
       "    </tr>\n",
       "  </thead>\n",
       "  <tbody>\n",
       "    <tr>\n",
       "      <th rowspan=\"2\" valign=\"top\">April</th>\n",
       "      <th>casual</th>\n",
       "      <td>38.059526</td>\n",
       "    </tr>\n",
       "    <tr>\n",
       "      <th>member</th>\n",
       "      <td>14.419953</td>\n",
       "    </tr>\n",
       "    <tr>\n",
       "      <th rowspan=\"2\" valign=\"top\">August</th>\n",
       "      <th>casual</th>\n",
       "      <td>28.683902</td>\n",
       "    </tr>\n",
       "    <tr>\n",
       "      <th>member</th>\n",
       "      <td>13.818489</td>\n",
       "    </tr>\n",
       "    <tr>\n",
       "      <th rowspan=\"2\" valign=\"top\">December</th>\n",
       "      <th>casual</th>\n",
       "      <td>23.018056</td>\n",
       "    </tr>\n",
       "    <tr>\n",
       "      <th>member</th>\n",
       "      <td>10.664584</td>\n",
       "    </tr>\n",
       "    <tr>\n",
       "      <th rowspan=\"2\" valign=\"top\">February</th>\n",
       "      <th>casual</th>\n",
       "      <td>26.241528</td>\n",
       "    </tr>\n",
       "    <tr>\n",
       "      <th>member</th>\n",
       "      <td>11.112543</td>\n",
       "    </tr>\n",
       "    <tr>\n",
       "      <th rowspan=\"2\" valign=\"top\">January</th>\n",
       "      <th>casual</th>\n",
       "      <td>28.380261</td>\n",
       "    </tr>\n",
       "    <tr>\n",
       "      <th>member</th>\n",
       "      <td>11.741625</td>\n",
       "    </tr>\n",
       "    <tr>\n",
       "      <th rowspan=\"2\" valign=\"top\">July</th>\n",
       "      <th>casual</th>\n",
       "      <td>32.929753</td>\n",
       "    </tr>\n",
       "    <tr>\n",
       "      <th>member</th>\n",
       "      <td>14.005865</td>\n",
       "    </tr>\n",
       "    <tr>\n",
       "      <th rowspan=\"2\" valign=\"top\">June</th>\n",
       "      <th>casual</th>\n",
       "      <td>37.190834</td>\n",
       "    </tr>\n",
       "    <tr>\n",
       "      <th>member</th>\n",
       "      <td>14.465038</td>\n",
       "    </tr>\n",
       "    <tr>\n",
       "      <th rowspan=\"2\" valign=\"top\">March</th>\n",
       "      <th>casual</th>\n",
       "      <td>32.733401</td>\n",
       "    </tr>\n",
       "    <tr>\n",
       "      <th>member</th>\n",
       "      <td>11.706828</td>\n",
       "    </tr>\n",
       "    <tr>\n",
       "      <th rowspan=\"2\" valign=\"top\">May</th>\n",
       "      <th>casual</th>\n",
       "      <td>37.719284</td>\n",
       "    </tr>\n",
       "    <tr>\n",
       "      <th>member</th>\n",
       "      <td>14.409469</td>\n",
       "    </tr>\n",
       "    <tr>\n",
       "      <th rowspan=\"2\" valign=\"top\">November</th>\n",
       "      <th>casual</th>\n",
       "      <td>23.330851</td>\n",
       "    </tr>\n",
       "    <tr>\n",
       "      <th>member</th>\n",
       "      <td>11.017373</td>\n",
       "    </tr>\n",
       "    <tr>\n",
       "      <th rowspan=\"2\" valign=\"top\">October</th>\n",
       "      <th>casual</th>\n",
       "      <td>28.996022</td>\n",
       "    </tr>\n",
       "    <tr>\n",
       "      <th>member</th>\n",
       "      <td>12.237508</td>\n",
       "    </tr>\n",
       "    <tr>\n",
       "      <th rowspan=\"2\" valign=\"top\">September</th>\n",
       "      <th>casual</th>\n",
       "      <td>27.621808</td>\n",
       "    </tr>\n",
       "    <tr>\n",
       "      <th>member</th>\n",
       "      <td>13.464214</td>\n",
       "    </tr>\n",
       "    <tr>\n",
       "      <th>total ride_length mean</th>\n",
       "      <th></th>\n",
       "      <td>21.448826</td>\n",
       "    </tr>\n",
       "  </tbody>\n",
       "</table>\n",
       "</div>"
      ],
      "text/plain": [
       "                                            mean\n",
       "                                     ride_length\n",
       "month                  member_casual            \n",
       "April                  casual          38.059526\n",
       "                       member          14.419953\n",
       "August                 casual          28.683902\n",
       "                       member          13.818489\n",
       "December               casual          23.018056\n",
       "                       member          10.664584\n",
       "February               casual          26.241528\n",
       "                       member          11.112543\n",
       "January                casual          28.380261\n",
       "                       member          11.741625\n",
       "July                   casual          32.929753\n",
       "                       member          14.005865\n",
       "June                   casual          37.190834\n",
       "                       member          14.465038\n",
       "March                  casual          32.733401\n",
       "                       member          11.706828\n",
       "May                    casual          37.719284\n",
       "                       member          14.409469\n",
       "November               casual          23.330851\n",
       "                       member          11.017373\n",
       "October                casual          28.996022\n",
       "                       member          12.237508\n",
       "September              casual          27.621808\n",
       "                       member          13.464214\n",
       "total ride_length mean                 21.448826"
      ]
     },
     "execution_count": 44,
     "metadata": {},
     "output_type": "execute_result"
    }
   ],
   "source": [
    "rpm_pivot = pd.pivot_table(trip_data, index=['month', 'member_casual'], values='ride_length', \n",
    "                          aggfunc=['mean'],margins=True, margins_name='total ride_length mean')\n",
    "rpm_pivot"
   ]
  },
  {
   "cell_type": "markdown",
   "id": "8759ed89",
   "metadata": {},
   "source": [
    "#### Total number of rides per hour"
   ]
  },
  {
   "cell_type": "code",
   "execution_count": 45,
   "id": "b5d2250d",
   "metadata": {},
   "outputs": [
    {
     "data": {
      "text/html": [
       "<div>\n",
       "<style scoped>\n",
       "    .dataframe tbody tr th:only-of-type {\n",
       "        vertical-align: middle;\n",
       "    }\n",
       "\n",
       "    .dataframe tbody tr th {\n",
       "        vertical-align: top;\n",
       "    }\n",
       "\n",
       "    .dataframe thead tr th {\n",
       "        text-align: left;\n",
       "    }\n",
       "\n",
       "    .dataframe thead tr:last-of-type th {\n",
       "        text-align: right;\n",
       "    }\n",
       "</style>\n",
       "<table border=\"1\" class=\"dataframe\">\n",
       "  <thead>\n",
       "    <tr>\n",
       "      <th></th>\n",
       "      <th></th>\n",
       "      <th>count</th>\n",
       "    </tr>\n",
       "    <tr>\n",
       "      <th></th>\n",
       "      <th></th>\n",
       "      <th>ride_id</th>\n",
       "    </tr>\n",
       "    <tr>\n",
       "      <th>hour</th>\n",
       "      <th>member_casual</th>\n",
       "      <th></th>\n",
       "    </tr>\n",
       "  </thead>\n",
       "  <tbody>\n",
       "    <tr>\n",
       "      <th rowspan=\"2\" valign=\"top\">0</th>\n",
       "      <th>casual</th>\n",
       "      <td>47903</td>\n",
       "    </tr>\n",
       "    <tr>\n",
       "      <th>member</th>\n",
       "      <td>29950</td>\n",
       "    </tr>\n",
       "    <tr>\n",
       "      <th rowspan=\"2\" valign=\"top\">1</th>\n",
       "      <th>casual</th>\n",
       "      <td>35009</td>\n",
       "    </tr>\n",
       "    <tr>\n",
       "      <th>member</th>\n",
       "      <td>19832</td>\n",
       "    </tr>\n",
       "    <tr>\n",
       "      <th rowspan=\"2\" valign=\"top\">2</th>\n",
       "      <th>casual</th>\n",
       "      <td>23111</td>\n",
       "    </tr>\n",
       "    <tr>\n",
       "      <th>member</th>\n",
       "      <td>11438</td>\n",
       "    </tr>\n",
       "    <tr>\n",
       "      <th rowspan=\"2\" valign=\"top\">3</th>\n",
       "      <th>casual</th>\n",
       "      <td>12726</td>\n",
       "    </tr>\n",
       "    <tr>\n",
       "      <th>member</th>\n",
       "      <td>6663</td>\n",
       "    </tr>\n",
       "    <tr>\n",
       "      <th rowspan=\"2\" valign=\"top\">4</th>\n",
       "      <th>casual</th>\n",
       "      <td>8818</td>\n",
       "    </tr>\n",
       "    <tr>\n",
       "      <th>member</th>\n",
       "      <td>7521</td>\n",
       "    </tr>\n",
       "    <tr>\n",
       "      <th rowspan=\"2\" valign=\"top\">5</th>\n",
       "      <th>casual</th>\n",
       "      <td>11339</td>\n",
       "    </tr>\n",
       "    <tr>\n",
       "      <th>member</th>\n",
       "      <td>27838</td>\n",
       "    </tr>\n",
       "    <tr>\n",
       "      <th rowspan=\"2\" valign=\"top\">6</th>\n",
       "      <th>casual</th>\n",
       "      <td>23459</td>\n",
       "    </tr>\n",
       "    <tr>\n",
       "      <th>member</th>\n",
       "      <td>73782</td>\n",
       "    </tr>\n",
       "    <tr>\n",
       "      <th rowspan=\"2\" valign=\"top\">7</th>\n",
       "      <th>casual</th>\n",
       "      <td>42603</td>\n",
       "    </tr>\n",
       "    <tr>\n",
       "      <th>member</th>\n",
       "      <td>138232</td>\n",
       "    </tr>\n",
       "    <tr>\n",
       "      <th rowspan=\"2\" valign=\"top\">8</th>\n",
       "      <th>casual</th>\n",
       "      <td>57971</td>\n",
       "    </tr>\n",
       "    <tr>\n",
       "      <th>member</th>\n",
       "      <td>161494</td>\n",
       "    </tr>\n",
       "    <tr>\n",
       "      <th rowspan=\"2\" valign=\"top\">9</th>\n",
       "      <th>casual</th>\n",
       "      <td>68250</td>\n",
       "    </tr>\n",
       "    <tr>\n",
       "      <th>member</th>\n",
       "      <td>119486</td>\n",
       "    </tr>\n",
       "    <tr>\n",
       "      <th rowspan=\"2\" valign=\"top\">10</th>\n",
       "      <th>casual</th>\n",
       "      <td>93121</td>\n",
       "    </tr>\n",
       "    <tr>\n",
       "      <th>member</th>\n",
       "      <td>115963</td>\n",
       "    </tr>\n",
       "    <tr>\n",
       "      <th rowspan=\"2\" valign=\"top\">11</th>\n",
       "      <th>casual</th>\n",
       "      <td>120397</td>\n",
       "    </tr>\n",
       "    <tr>\n",
       "      <th>member</th>\n",
       "      <td>138964</td>\n",
       "    </tr>\n",
       "    <tr>\n",
       "      <th rowspan=\"2\" valign=\"top\">12</th>\n",
       "      <th>casual</th>\n",
       "      <td>143483</td>\n",
       "    </tr>\n",
       "    <tr>\n",
       "      <th>member</th>\n",
       "      <td>161683</td>\n",
       "    </tr>\n",
       "    <tr>\n",
       "      <th rowspan=\"2\" valign=\"top\">13</th>\n",
       "      <th>casual</th>\n",
       "      <td>153012</td>\n",
       "    </tr>\n",
       "    <tr>\n",
       "      <th>member</th>\n",
       "      <td>158248</td>\n",
       "    </tr>\n",
       "    <tr>\n",
       "      <th rowspan=\"2\" valign=\"top\">14</th>\n",
       "      <th>casual</th>\n",
       "      <td>157856</td>\n",
       "    </tr>\n",
       "    <tr>\n",
       "      <th>member</th>\n",
       "      <td>155698</td>\n",
       "    </tr>\n",
       "    <tr>\n",
       "      <th rowspan=\"2\" valign=\"top\">15</th>\n",
       "      <th>casual</th>\n",
       "      <td>167409</td>\n",
       "    </tr>\n",
       "    <tr>\n",
       "      <th>member</th>\n",
       "      <td>180710</td>\n",
       "    </tr>\n",
       "    <tr>\n",
       "      <th rowspan=\"2\" valign=\"top\">16</th>\n",
       "      <th>casual</th>\n",
       "      <td>182738</td>\n",
       "    </tr>\n",
       "    <tr>\n",
       "      <th>member</th>\n",
       "      <td>234422</td>\n",
       "    </tr>\n",
       "    <tr>\n",
       "      <th rowspan=\"2\" valign=\"top\">17</th>\n",
       "      <th>casual</th>\n",
       "      <td>210791</td>\n",
       "    </tr>\n",
       "    <tr>\n",
       "      <th>member</th>\n",
       "      <td>291391</td>\n",
       "    </tr>\n",
       "    <tr>\n",
       "      <th rowspan=\"2\" valign=\"top\">18</th>\n",
       "      <th>casual</th>\n",
       "      <td>191553</td>\n",
       "    </tr>\n",
       "    <tr>\n",
       "      <th>member</th>\n",
       "      <td>245419</td>\n",
       "    </tr>\n",
       "    <tr>\n",
       "      <th rowspan=\"2\" valign=\"top\">19</th>\n",
       "      <th>casual</th>\n",
       "      <td>148961</td>\n",
       "    </tr>\n",
       "    <tr>\n",
       "      <th>member</th>\n",
       "      <td>175915</td>\n",
       "    </tr>\n",
       "    <tr>\n",
       "      <th rowspan=\"2\" valign=\"top\">20</th>\n",
       "      <th>casual</th>\n",
       "      <td>109132</td>\n",
       "    </tr>\n",
       "    <tr>\n",
       "      <th>member</th>\n",
       "      <td>119605</td>\n",
       "    </tr>\n",
       "    <tr>\n",
       "      <th rowspan=\"2\" valign=\"top\">21</th>\n",
       "      <th>casual</th>\n",
       "      <td>92938</td>\n",
       "    </tr>\n",
       "    <tr>\n",
       "      <th>member</th>\n",
       "      <td>89645</td>\n",
       "    </tr>\n",
       "    <tr>\n",
       "      <th rowspan=\"2\" valign=\"top\">22</th>\n",
       "      <th>casual</th>\n",
       "      <td>85967</td>\n",
       "    </tr>\n",
       "    <tr>\n",
       "      <th>member</th>\n",
       "      <td>68316</td>\n",
       "    </tr>\n",
       "    <tr>\n",
       "      <th rowspan=\"2\" valign=\"top\">23</th>\n",
       "      <th>casual</th>\n",
       "      <td>66208</td>\n",
       "    </tr>\n",
       "    <tr>\n",
       "      <th>member</th>\n",
       "      <td>46915</td>\n",
       "    </tr>\n",
       "    <tr>\n",
       "      <th>total ride_id count</th>\n",
       "      <th></th>\n",
       "      <td>5033885</td>\n",
       "    </tr>\n",
       "  </tbody>\n",
       "</table>\n",
       "</div>"
      ],
      "text/plain": [
       "                                     count\n",
       "                                   ride_id\n",
       "hour                member_casual         \n",
       "0                   casual           47903\n",
       "                    member           29950\n",
       "1                   casual           35009\n",
       "                    member           19832\n",
       "2                   casual           23111\n",
       "                    member           11438\n",
       "3                   casual           12726\n",
       "                    member            6663\n",
       "4                   casual            8818\n",
       "                    member            7521\n",
       "5                   casual           11339\n",
       "                    member           27838\n",
       "6                   casual           23459\n",
       "                    member           73782\n",
       "7                   casual           42603\n",
       "                    member          138232\n",
       "8                   casual           57971\n",
       "                    member          161494\n",
       "9                   casual           68250\n",
       "                    member          119486\n",
       "10                  casual           93121\n",
       "                    member          115963\n",
       "11                  casual          120397\n",
       "                    member          138964\n",
       "12                  casual          143483\n",
       "                    member          161683\n",
       "13                  casual          153012\n",
       "                    member          158248\n",
       "14                  casual          157856\n",
       "                    member          155698\n",
       "15                  casual          167409\n",
       "                    member          180710\n",
       "16                  casual          182738\n",
       "                    member          234422\n",
       "17                  casual          210791\n",
       "                    member          291391\n",
       "18                  casual          191553\n",
       "                    member          245419\n",
       "19                  casual          148961\n",
       "                    member          175915\n",
       "20                  casual          109132\n",
       "                    member          119605\n",
       "21                  casual           92938\n",
       "                    member           89645\n",
       "22                  casual           85967\n",
       "                    member           68316\n",
       "23                  casual           66208\n",
       "                    member           46915\n",
       "total ride_id count                5033885"
      ]
     },
     "execution_count": 45,
     "metadata": {},
     "output_type": "execute_result"
    }
   ],
   "source": [
    "tnr_pivot = pd.pivot_table(trip_data, index=['hour', 'member_casual'], values='ride_id', \n",
    "                          aggfunc=['count'],margins=True, margins_name='total ride_id count')\n",
    "tnr_pivot"
   ]
  },
  {
   "cell_type": "markdown",
   "id": "1aae33f4",
   "metadata": {},
   "source": [
    "## 5. SHARE\n",
    "<p>Now I will visualize the information discovered through our analysis.</p>"
   ]
  },
  {
   "cell_type": "markdown",
   "id": "45cf63dc",
   "metadata": {},
   "source": [
    "#### Visualizing rides by user type"
   ]
  },
  {
   "cell_type": "code",
   "execution_count": 47,
   "id": "577614d8",
   "metadata": {},
   "outputs": [
    {
     "data": {
      "image/png": "[encoded data removed]",
      "text/plain": [
       "<Figure size 864x432 with 1 Axes>"
      ]
     },
     "metadata": {},
     "output_type": "display_data"
    }
   ],
   "source": [
    "ride_by_customer_type['ride_id'].plot.pie(x='member_casual', ylabel='Total Number of Rides', \n",
    "                                   title='Rides By User Type', legend=True,\n",
    "                                   autopct='%1.0f%%', fontsize='12', startangle=0, \n",
    "                                   colors=['#246182', '#c76b16'], figsize=(12, 6))\n",
    "plt.legend(loc=\"upper right\")\n",
    "plt.savefig('Images/Rides_By_User_Type.png', facecolor='white')\n",
    "plt.show()"
   ]
  },
  {
   "cell_type": "markdown",
   "id": "82625e60",
   "metadata": {},
   "source": [
    "> **Note:** The above pie chart shows us that <b>annual members represent the majority of Cyclistic-Bike Sharing system users</b>, making up to <b>55%</b> of total users."
   ]
  },
  {
   "cell_type": "markdown",
   "id": "14a53e8b",
   "metadata": {},
   "source": [
    "#### Visualizing average ride length by user type"
   ]
  },
  {
   "cell_type": "code",
   "execution_count": 49,
   "id": "9e4ad3ba",
   "metadata": {},
   "outputs": [
    {
     "data": {
      "image/png": "[encoded data removed]",
      "text/plain": [
       "<Figure size 864x432 with 1 Axes>"
      ]
     },
     "metadata": {
      "needs_background": "light"
     },
     "output_type": "display_data"
    }
   ],
   "source": [
    "avg_ride_lgth_user_type = trip_data[['ride_length', 'member_casual']]\n",
    "avg_ride_lgth_user_type = avg_ride_lgth_user_type.groupby(['member_casual'], as_index=False)[['ride_length']].mean()\n",
    "\n",
    "plt.figure(figsize=(12,6))\n",
    "sns.set_theme(style='white')\n",
    "sns.barplot(data=avg_ride_lgth_user_type,\n",
    "            x='member_casual',\n",
    "            y='ride_length',\n",
    "            palette='tab10').set_title('Average Ride Length By User Type')\n",
    "\n",
    "plt.xlabel('User Type')\n",
    "plt.ylabel('Average Ride Length (Minutes)')\n",
    "plt.savefig('Images/Avg_Ride_Length_User_Type.png', facecolor='white')\n",
    "plt.show()"
   ]
  },
  {
   "cell_type": "markdown",
   "id": "d3023f9f",
   "metadata": {},
   "source": [
    "> **Note:** The bar char above shows that <b>casual riders have much greater ride length on average than members.</b> The average ride length is <b>32 mins for casual riders</b> and <b>13 mins for members</b>."
   ]
  },
  {
   "cell_type": "markdown",
   "id": "9466c64e",
   "metadata": {},
   "source": [
    "#### Visualizing the most popular rideable type"
   ]
  },
  {
   "cell_type": "code",
   "execution_count": 50,
   "id": "4dff3073",
   "metadata": {},
   "outputs": [
    {
     "data": {
      "image/png": "[encoded data removed]",
      "text/plain": [
       "<Figure size 864x432 with 1 Axes>"
      ]
     },
     "metadata": {},
     "output_type": "display_data"
    }
   ],
   "source": [
    "prt_df = trip_data[['rideable_type', 'member_casual', 'ride_id']]\n",
    "prt_df = prt_df.groupby(['rideable_type', 'member_casual'], as_index=False)[['ride_id']].count()\n",
    "\n",
    "plt.figure(figsize=(12,6))\n",
    "sns.set_theme(style='white')\n",
    "plt.ticklabel_format(style='plain', axis='x')\n",
    "sns.barplot(data=prt_df,\n",
    "            x='ride_id',\n",
    "            y='rideable_type',\n",
    "            hue='member_casual',\n",
    "            palette='tab10').set_title('The Most Popular Rideable Type')\n",
    "\n",
    "plt.xlabel('Total Number of Rides')\n",
    "plt.ylabel('Rideable Type')\n",
    "plt.savefig('Images/Popular_Rideable_Type.png', facecolor='white')\n",
    "plt.show()"
   ]
  },
  {
   "cell_type": "markdown",
   "id": "eeacb807",
   "metadata": {},
   "source": [
    "> **Note:** According to the dataset, Cyclistic's Bikes are divided into three groups : <i> classic bike, docked bike,</i> and <i>electric bike</i>. It is clear from the visaulization above that <b>classic bike is most rented rideable type by both casual riders and members</b>. This could either be explained by the users showing a preference for the classic bike or, more, plausibly, the company has invested more heavily in a classic bike based system than the other two options."
   ]
  },
  {
   "cell_type": "markdown",
   "id": "efe9fc41",
   "metadata": {},
   "source": [
    "#### Visualizing the most popular day of the week for bike rentals"
   ]
  },
  {
   "cell_type": "code",
   "execution_count": 51,
   "id": "54764766",
   "metadata": {},
   "outputs": [
    {
     "data": {
      "image/png": "[encoded data removed]",
      "text/plain": [
       "<Figure size 864x432 with 1 Axes>"
      ]
     },
     "metadata": {},
     "output_type": "display_data"
    }
   ],
   "source": [
    "prw_df = trip_data[['dayofweek', 'member_casual', 'ride_id']]\n",
    "prw_df = prw_df.groupby(['dayofweek', 'member_casual'], as_index=False)[['ride_id']].count()\n",
    "\n",
    "plt.figure(figsize = (12,6))\n",
    "sns.set_theme(style='white')\n",
    "sns.barplot(data=prw_df, x='dayofweek', y='ride_id', hue='member_casual', palette='tab10',\n",
    "            order=['Monday', 'Tuesday', 'Wednesday', 'Thursday', 'Friday', 'Saturday',\n",
    "                   'Sunday']).set_title('The Most Popular Day Of The Week For Bike Rentals')\n",
    "\n",
    "plt.xlabel('Days of the Week')\n",
    "plt.ylabel('Total Number of Rides')\n",
    "plt.savefig('Images/Popular_Day_For_Bike_Rentals.png', facecolor='white')\n",
    "plt.show()"
   ]
  },
  {
   "cell_type": "markdown",
   "id": "ce2b19ed",
   "metadata": {},
   "source": [
    "> **Note:** When it comes to bike rentals by day of the week, there are differences between casual riders and members. For instance, <b>Saturday is most popular day for casual riders</b>, and <b>Wednesday is most popular day for members</b>. The two groups differ considerably when it comes to bike rentals throughout the weekdays : <b>members consistently rent bikes on daily basis while casual riders present lower weekday numbers compared to the weekend</b>."
   ]
  },
  {
   "cell_type": "markdown",
   "id": "bcc342fc",
   "metadata": {},
   "source": [
    "#### Visualizing the most popular month of the year for bike rentals"
   ]
  },
  {
   "cell_type": "code",
   "execution_count": 52,
   "id": "bf0b57c9",
   "metadata": {},
   "outputs": [
    {
     "data": {
      "image/png": "[encoded data removed]",
      "text/plain": [
       "<Figure size 1008x432 with 1 Axes>"
      ]
     },
     "metadata": {},
     "output_type": "display_data"
    }
   ],
   "source": [
    "prm_df = trip_data[['month', 'member_casual', 'ride_id']]\n",
    "prm_df = prm_df .groupby(['month', 'member_casual'], as_index=False)[['ride_id']].count()\n",
    "\n",
    "plt.figure(figsize = (14,6))\n",
    "sns.set_theme(style='white')\n",
    "sns.barplot(data=prm_df, x='month', y='ride_id', hue='member_casual', palette='tab10', \n",
    "            order=['January', 'February', 'March', 'April', 'May', 'June', 'July', 'August', 'September', \n",
    "                   'October', 'November', 'December']).set_title('The Most Popular Month Of The Year For Bike Rentals'),\n",
    "\n",
    "plt.xlabel('Months')\n",
    "plt.ylabel('Total Number of Rides')\n",
    "plt.savefig('Images/Popular_Month_Of_The_Year_For_Bike_Rentals.png', facecolor='white')\n",
    "plt.show()"
   ]
  },
  {
   "cell_type": "markdown",
   "id": "cd27b532",
   "metadata": {},
   "source": [
    "> **Note:** Visualizing the number of rides can be helpful to recognize if seasonality plays a role in bike rental. The bar chart above shows us that <b>the number of rentals increases during summer months</b> and gradually drops over the fall and winter for both user types. The main difference is that members are still more consistent with their rental habits throughout the year when compared to casual riders, whose numbers drop significantly during the winter months."
   ]
  },
  {
   "cell_type": "markdown",
   "id": "fe170fac",
   "metadata": {},
   "source": [
    "#### Visualizing average ride length by day of the week "
   ]
  },
  {
   "cell_type": "code",
   "execution_count": 53,
   "id": "741afd82",
   "metadata": {},
   "outputs": [
    {
     "data": {
      "image/png": "[encoded data removed]",
      "text/plain": [
       "<Figure size 1008x432 with 1 Axes>"
      ]
     },
     "metadata": {},
     "output_type": "display_data"
    }
   ],
   "source": [
    "cats = [ 'Monday', 'Tuesday', 'Wednesday', 'Thursday', 'Friday', 'Saturday', 'Sunday']\n",
    "cat_type = CategoricalDtype(categories=cats, ordered=True)\n",
    "trip_data['dayofweek'] = trip_data['dayofweek'].astype(cat_type)\n",
    "avg_ride_length_dofw = trip_data.copy()\n",
    "\n",
    "avg_ride_length_dofw = trip_data[['dayofweek', 'member_casual', 'ride_length']]\n",
    "avg_ride_length_dofw = avg_ride_length_dofw.groupby(['dayofweek', 'member_casual'], as_index=False)[['ride_length']].mean()\n",
    "\n",
    "sns.set_theme(style='whitegrid')\n",
    "plt.figure(figsize = (14,6))\n",
    "sns.lineplot(data=avg_ride_length_dofw, x='dayofweek', y='ride_length', hue='member_casual', \n",
    "             style='member_casual', palette='tab10', \n",
    "             markers=True).set_title('Average Ride Length By Day Of The Week')\n",
    "\n",
    "plt.xlabel('Days of the Week')\n",
    "plt.ylabel('Ride Length (Minutes)')\n",
    "plt.savefig('Images/Avg_Ride_Length_DOFW.png', facecolor='white')\n",
    "plt.show()"
   ]
  },
  {
   "cell_type": "markdown",
   "id": "ac2674f3",
   "metadata": {},
   "source": [
    "> **Note:** On this plot, it becomes clear that <b>ride length increases on the weekends</b> for both the groups. The difference between casual riders and members in this scenario lies in the duration of rides. <b>Casual riders tend to take longer rides, longest one being of 37 mins</b>. In contrast, <b>members present much shorter rides that last max of 15 mins</b>.<p> Considering the lack of personal user data for privacy reasons, it is difficult to determine exactly what causes casual riders and members to have such different riding lengths. It is likely that members live close to work/school and choose to commute using Cyclistic's Bike Sharing System. As for the casual riders, taking into consideration that they purchase either single-ride or full-day passes, this makes them less likely to use the service on daily basis as members do. Casual riders could have longer ride lengths because they're using it for leisure or tourism. Regardless, it is difficult to answer this question with certainity why ride length increases on the weekends for both groups given the gaps in the data.</p>"
   ]
  },
  {
   "cell_type": "markdown",
   "id": "d5f099c9",
   "metadata": {},
   "source": [
    "#### Visualizing average ride length by month of the year"
   ]
  },
  {
   "cell_type": "code",
   "execution_count": 54,
   "id": "127cf773",
   "metadata": {},
   "outputs": [
    {
     "data": {
      "image/png": "[encoded data removed]",
      "text/plain": [
       "<Figure size 1008x432 with 1 Axes>"
      ]
     },
     "metadata": {},
     "output_type": "display_data"
    }
   ],
   "source": [
    "cats = [ 'January', 'February', 'March', 'April', 'May', 'June', 'July', 'August', 'September', 'October', 'November', 'December']\n",
    "cat_type = CategoricalDtype(categories=cats, ordered=True)\n",
    "trip_data['month'] = trip_data['month'].astype(cat_type)\n",
    "avg_ride_length_moy = trip_data.copy()\n",
    "\n",
    "avg_ride_length_moy = trip_data[['month', 'member_casual', 'ride_length']]\n",
    "avg_ride_length_moy = avg_ride_length_moy.groupby(['month', 'member_casual'], as_index=False)[['ride_length']].mean()\n",
    "\n",
    "sns.set_theme(style='whitegrid')\n",
    "plt.figure(figsize = (14,6))\n",
    "sns.lineplot(data=avg_ride_length_moy, x='month', y='ride_length', hue='member_casual', palette='tab10', \n",
    "             style='member_casual', markers=True).set_title('Average Ride Length by Month Of The Year')\n",
    "\n",
    "plt.xlabel('Months')\n",
    "plt.ylabel('Ride Length (Minutes)')\n",
    "plt.savefig('Images/Avg_Ride_Length_MOY.png', facecolor='white')\n",
    "plt.show()"
   ]
  },
  {
   "cell_type": "markdown",
   "id": "20e96004",
   "metadata": {},
   "source": [
    "> **Note:** Visualizing ride length by month of the year can help in recognizing user's riding habots throughout the year. Note that the ride length changes considerably for casual riders as the months go by. For this type of customer, <b>the ride length peaks during summer, reaching an average of 38 mins in April</b> - before dropping in May. <b>As for the members, the ride length does not change drastically over the months, peaking in April - averaging 14 mins</b> and then gradually dropping after June for the remainder of the year.<p>Considering the short trips, this could indicate that members use Cyclistic's bikes to commute, and perhaps, run errands. The drop in ride length over the winter months could indicate that members choose other means of transportation to commute during that time of the year. In contrast, casual riders could be using it for leisure or tourism - as mentioned earlier - especially during the spring and summer.</p>"
   ]
  },
  {
   "cell_type": "markdown",
   "id": "69d25dea",
   "metadata": {},
   "source": [
    "#### Visualizing the total number of rides per hour"
   ]
  },
  {
   "cell_type": "code",
   "execution_count": 55,
   "id": "994d7e96",
   "metadata": {},
   "outputs": [
    {
     "data": {
      "image/png": "[encoded data removed]",
      "text/plain": [
       "<Figure size 1008x432 with 1 Axes>"
      ]
     },
     "metadata": {},
     "output_type": "display_data"
    }
   ],
   "source": [
    "total_num_rides_per_hour = trip_data[['hour', 'member_casual', 'ride_id']]\n",
    "total_num_rides_per_hour = total_num_rides_per_hour.groupby(['hour', 'member_casual'], as_index=False)[['ride_id']].count()\n",
    "\n",
    "sns.set_theme(style='whitegrid')\n",
    "plt.figure(figsize = (14,6))\n",
    "sns.lineplot(data=total_num_rides_per_hour, x='hour', y='ride_id', hue='member_casual', palette='tab10',\n",
    "             style='member_casual', markers=True).set_title('Total Number of Rides Per Hour')\n",
    "plt.xlabel('Hours')\n",
    "plt.ylabel('Number of Rides')\n",
    "plt.savefig('Images/Total_Num_Rides_Per_Hour.png', facecolor='white')\n",
    "plt.show()"
   ]
  },
  {
   "cell_type": "markdown",
   "id": "12a945dc",
   "metadata": {},
   "source": [
    "> **Note:** By taking a closer look into the total num of rides per hour can help in finding more patterns in the customer's bike rental habits. The <b>num of bike rentals by casual riders begins to increase between 8:00 a.m. and 10:00 a.m., peaking at 5 p.m. As for the members, the numbers start to go up earlier - between 6 a.m. and 7 a.m. also peaking at 5:00 p.m.</b> Notice that the num of rides by members is far greater than casual riders. This could be related to the fact that members represent the majority of users and likely use Cyclistic's services for their daily commute."
   ]
  },
  {
   "cell_type": "markdown",
   "id": "d8537533",
   "metadata": {},
   "source": [
    "## 6. ACT\n",
    "<p>Now, it is time to summarize key trends and present recommendations for Cyclistic's marketing team.</p>"
   ]
  },
  {
   "cell_type": "markdown",
   "id": "458bf713",
   "metadata": {},
   "source": [
    "### Key Findings\n",
    "<p><li>Annual members are the majority of users, making up for 55% of Cyclistic's customer.</li></p>\n",
    "<p><li>Casual riders have an average of 32 mins while members take shorter trips, averaging 13 mins.</li></p>\n",
    "<p><li>Classic bike is the most popular rideable type for both the groups, followed by electric and docked bike, respectively.</li></p>\n",
    "<p><li>Saturday is the most popular day of the week for bike rentals for casual riders. In contrast, Wednesday is most popular day of the week for bike rentals for the members.</li></p>\n",
    "<p><li>Members consistently rent bikes on daily basis while casual riders present lower weekday numbers compared to the weekend.</li></p>\n",
    "<p><li>July is the most popular month of the year for bike rental, hence, there is clear rise in numbers during the summer for both casual riders and members.</li></p>\n",
    "<p><li>Both user types take longer rides during spring and summer months.</li></p>\n",
    "<p><li>The num of bike rentals by casual riders begins to increase between 8:00 a.m. and 10:00 a.m., peaking at 5 p.m. As for the members, the numbers start to go up earlier - between 6 a.m. and 7 a.m. also peaking at 5:00 p.m.</li></p>\n",
    "<p><li>Average ride length combined with the average time of the day rentals indicates that members use Cyclistic's bikes to go to work/school. The noticeable drop in ride length over the winter could be related to a change in means of transportation to commute during that time of the year.</li></p>\n",
    "<p><li>Casual riders' bike rental numbers on the weekends paired with average ride length during the summer suggest that they are using the single-ride and full-day passes for leisure or tourism.</li></p>\n",
    "\n",
    "#### After conducting analysis with support of visualization, it becomes clear how casual riders and members use Cyclistic's bikes differently \n",
    "<p><li><b>Casual Rider</b> tend to rent more bikes on the weekends - especially over the summer. Considering long average ride lengths, this combination of factors suggest that this group of customers use the bikes for leisure.</li></p>\n",
    "<p><li><b>Members</b> tend to use Cyclistic's bike sharing system on a daily basis for shorter rides, indicating its use for commuting to work/school and running errands on the weekends.</li></p>"
   ]
  },
  {
   "cell_type": "markdown",
   "id": "8d375b7f",
   "metadata": {},
   "source": [
    "### Recommendations \n",
    "<p><li>Increase marketing campaign targeted at casual riders through emails, text messages, and app notifications during summer months, when bike rental is more frequent. The ads could offer special discounts for the annual membership in order to encourage casual riders to make the switch.</li></p>\n",
    "\n",
    "<p><li>Create reward points for members, where each bike rental adds up a certain number of points to the user’s account. The points could get higher with rental frequency and trip duration, and at the end of each year, the user could exchange the points for a discount on membership renewal.</li></p>\n",
    "\n",
    "<p><li>Cyclistic could study partnering up with local companies and offer special deals on places such as fitness centers, movie theaters, beauty salons, and restaurants. Focusing on entertainment and wellness segments could motivate casual riders into signing up for the annual membership.</li></p>\n",
    "\n",
    "<p><li>Since casual riders do not rent bikes as much as members during the weekdays, Cyclistic’s marketing team should also consider the possibility of creating two new types of membership :</li></p>\n",
    "\n",
    "<p><ul><li>An annual membership that only includes the weekends. This way, the customers that only rent bikes twice a week could pay accordingly and still add to the company’s growing number of members.</li>\n",
    "<li>A seasonal membership tailored for the group of people that likes to ride bikes during the summer, but do not have any interest in renting it for the remainder of the year. This type of membership could be billed annually, and offer a special discount in comparison to the single-ride and full-day passes.</li></ul></p>\n",
    "\n",
    "#### Additional Considerations & Future Improvements\n",
    "<p>Given the fact that there were certain gaps in discovered in the data, such as the lack of payment, age, gender, and geographical information, it is difficult to make further recommendations. Demographic data plays a significant role in creating a successful marketing campaign because it allows businesses to understand their audience better. Once the company has this information, they can segment their customers into separate groups based on their habits, interests, and other important characteristics. This way, the marketing team is able to create customized ad campaigns capable of achieving Cyclistic’s marketing and financial goals.</p>"
   ]
  }
 ],
 "metadata": {
  "kernelspec": {
   "display_name": "Python 3 (ipykernel)",
   "language": "python",
   "name": "python3"
  },
  "language_info": {
   "codemirror_mode": {
    "name": "ipython",
    "version": 3
   },
   "file_extension": ".py",
   "mimetype": "text/x-python",
   "name": "python",
   "nbconvert_exporter": "python",
   "pygments_lexer": "ipython3",
   "version": "3.9.7"
  }
 },
 "nbformat": 4,
 "nbformat_minor": 5
}
